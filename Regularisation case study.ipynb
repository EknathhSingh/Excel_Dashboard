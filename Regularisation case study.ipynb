{
 "cells": [
  {
   "cell_type": "code",
   "execution_count": 1,
   "id": "ef7d76b9",
   "metadata": {},
   "outputs": [],
   "source": [
    "import numpy as np\n",
    "import pandas as pd\n",
    "import matplotlib.pyplot as plt\n",
    "import seaborn as sns\n",
    "import warnings\n",
    "warnings.filterwarnings('ignore')"
   ]
  },
  {
   "cell_type": "code",
   "execution_count": 2,
   "id": "382000fb",
   "metadata": {},
   "outputs": [],
   "source": [
    "#Load dataset automobile_data.csv file\n",
    "df=pd.read_csv(\"automobile_data.csv\")"
   ]
  },
  {
   "cell_type": "code",
   "execution_count": 3,
   "id": "6c70eeb6",
   "metadata": {},
   "outputs": [
    {
     "data": {
      "text/html": [
       "<div>\n",
       "<style scoped>\n",
       "    .dataframe tbody tr th:only-of-type {\n",
       "        vertical-align: middle;\n",
       "    }\n",
       "\n",
       "    .dataframe tbody tr th {\n",
       "        vertical-align: top;\n",
       "    }\n",
       "\n",
       "    .dataframe thead th {\n",
       "        text-align: right;\n",
       "    }\n",
       "</style>\n",
       "<table border=\"1\" class=\"dataframe\">\n",
       "  <thead>\n",
       "    <tr style=\"text-align: right;\">\n",
       "      <th></th>\n",
       "      <th>symboling</th>\n",
       "      <th>normalized-losses</th>\n",
       "      <th>make</th>\n",
       "      <th>fuel-type</th>\n",
       "      <th>body-style</th>\n",
       "      <th>drive-wheels</th>\n",
       "      <th>engine-location</th>\n",
       "      <th>width</th>\n",
       "      <th>height</th>\n",
       "      <th>engine-type</th>\n",
       "      <th>engine-size</th>\n",
       "      <th>horsepower</th>\n",
       "      <th>city-mpg</th>\n",
       "      <th>highway-mpg</th>\n",
       "      <th>price</th>\n",
       "    </tr>\n",
       "  </thead>\n",
       "  <tbody>\n",
       "    <tr>\n",
       "      <th>0</th>\n",
       "      <td>3</td>\n",
       "      <td>?</td>\n",
       "      <td>alfa-romero</td>\n",
       "      <td>gas</td>\n",
       "      <td>convertible</td>\n",
       "      <td>rwd</td>\n",
       "      <td>front</td>\n",
       "      <td>64.1</td>\n",
       "      <td>48.8</td>\n",
       "      <td>dohc</td>\n",
       "      <td>130</td>\n",
       "      <td>111</td>\n",
       "      <td>21</td>\n",
       "      <td>27</td>\n",
       "      <td>13495</td>\n",
       "    </tr>\n",
       "    <tr>\n",
       "      <th>1</th>\n",
       "      <td>3</td>\n",
       "      <td>?</td>\n",
       "      <td>alfa-romero</td>\n",
       "      <td>gas</td>\n",
       "      <td>convertible</td>\n",
       "      <td>rwd</td>\n",
       "      <td>front</td>\n",
       "      <td>64.1</td>\n",
       "      <td>48.8</td>\n",
       "      <td>dohc</td>\n",
       "      <td>130</td>\n",
       "      <td>111</td>\n",
       "      <td>21</td>\n",
       "      <td>27</td>\n",
       "      <td>16500</td>\n",
       "    </tr>\n",
       "    <tr>\n",
       "      <th>2</th>\n",
       "      <td>1</td>\n",
       "      <td>?</td>\n",
       "      <td>alfa-romero</td>\n",
       "      <td>gas</td>\n",
       "      <td>hatchback</td>\n",
       "      <td>rwd</td>\n",
       "      <td>front</td>\n",
       "      <td>65.5</td>\n",
       "      <td>52.4</td>\n",
       "      <td>ohcv</td>\n",
       "      <td>152</td>\n",
       "      <td>154</td>\n",
       "      <td>19</td>\n",
       "      <td>26</td>\n",
       "      <td>16500</td>\n",
       "    </tr>\n",
       "    <tr>\n",
       "      <th>3</th>\n",
       "      <td>2</td>\n",
       "      <td>164</td>\n",
       "      <td>audi</td>\n",
       "      <td>gas</td>\n",
       "      <td>sedan</td>\n",
       "      <td>fwd</td>\n",
       "      <td>front</td>\n",
       "      <td>66.2</td>\n",
       "      <td>54.3</td>\n",
       "      <td>ohc</td>\n",
       "      <td>109</td>\n",
       "      <td>102</td>\n",
       "      <td>24</td>\n",
       "      <td>30</td>\n",
       "      <td>13950</td>\n",
       "    </tr>\n",
       "    <tr>\n",
       "      <th>4</th>\n",
       "      <td>2</td>\n",
       "      <td>164</td>\n",
       "      <td>audi</td>\n",
       "      <td>gas</td>\n",
       "      <td>sedan</td>\n",
       "      <td>4wd</td>\n",
       "      <td>front</td>\n",
       "      <td>66.4</td>\n",
       "      <td>54.3</td>\n",
       "      <td>ohc</td>\n",
       "      <td>136</td>\n",
       "      <td>115</td>\n",
       "      <td>18</td>\n",
       "      <td>22</td>\n",
       "      <td>17450</td>\n",
       "    </tr>\n",
       "  </tbody>\n",
       "</table>\n",
       "</div>"
      ],
      "text/plain": [
       "   symboling normalized-losses         make fuel-type   body-style  \\\n",
       "0          3                 ?  alfa-romero       gas  convertible   \n",
       "1          3                 ?  alfa-romero       gas  convertible   \n",
       "2          1                 ?  alfa-romero       gas    hatchback   \n",
       "3          2               164         audi       gas        sedan   \n",
       "4          2               164         audi       gas        sedan   \n",
       "\n",
       "  drive-wheels engine-location  width  height engine-type  engine-size  \\\n",
       "0          rwd           front   64.1    48.8        dohc          130   \n",
       "1          rwd           front   64.1    48.8        dohc          130   \n",
       "2          rwd           front   65.5    52.4        ohcv          152   \n",
       "3          fwd           front   66.2    54.3         ohc          109   \n",
       "4          4wd           front   66.4    54.3         ohc          136   \n",
       "\n",
       "  horsepower  city-mpg  highway-mpg  price  \n",
       "0        111        21           27  13495  \n",
       "1        111        21           27  16500  \n",
       "2        154        19           26  16500  \n",
       "3        102        24           30  13950  \n",
       "4        115        18           22  17450  "
      ]
     },
     "execution_count": 3,
     "metadata": {},
     "output_type": "execute_result"
    }
   ],
   "source": [
    "#To display first 5 records\n",
    "df.head()"
   ]
  },
  {
   "cell_type": "code",
   "execution_count": 4,
   "id": "595df829",
   "metadata": {},
   "outputs": [
    {
     "data": {
      "text/plain": [
       "symboling            0\n",
       "normalized-losses    0\n",
       "make                 0\n",
       "fuel-type            0\n",
       "body-style           0\n",
       "drive-wheels         0\n",
       "engine-location      0\n",
       "width                0\n",
       "height               0\n",
       "engine-type          0\n",
       "engine-size          0\n",
       "horsepower           0\n",
       "city-mpg             0\n",
       "highway-mpg          0\n",
       "price                0\n",
       "dtype: int64"
      ]
     },
     "execution_count": 4,
     "metadata": {},
     "output_type": "execute_result"
    }
   ],
   "source": [
    "#First check null values\n",
    "df.isnull().sum()"
   ]
  },
  {
   "cell_type": "code",
   "execution_count": 5,
   "id": "eeaee4bd",
   "metadata": {},
   "outputs": [
    {
     "data": {
      "text/plain": [
       "symboling              int64\n",
       "normalized-losses     object\n",
       "make                  object\n",
       "fuel-type             object\n",
       "body-style            object\n",
       "drive-wheels          object\n",
       "engine-location       object\n",
       "width                float64\n",
       "height               float64\n",
       "engine-type           object\n",
       "engine-size            int64\n",
       "horsepower            object\n",
       "city-mpg               int64\n",
       "highway-mpg            int64\n",
       "price                  int64\n",
       "dtype: object"
      ]
     },
     "execution_count": 5,
     "metadata": {},
     "output_type": "execute_result"
    }
   ],
   "source": [
    "df.dtypes"
   ]
  },
  {
   "cell_type": "code",
   "execution_count": 6,
   "id": "3a30d041",
   "metadata": {},
   "outputs": [
    {
     "name": "stdout",
     "output_type": "stream",
     "text": [
      "0   ?\n",
      "1   ?\n",
      "2   ?\n",
      "5   ?\n",
      "7   ?\n",
      "9   ?\n",
      "14   ?\n",
      "15   ?\n",
      "16   ?\n",
      "17   ?\n",
      "43   ?\n",
      "44   ?\n",
      "45   ?\n",
      "46   ?\n",
      "48   ?\n",
      "49   ?\n",
      "63   ?\n",
      "66   ?\n",
      "71   ?\n",
      "73   ?\n",
      "74   ?\n",
      "75   ?\n",
      "82   ?\n",
      "83   ?\n",
      "84   ?\n",
      "109   ?\n",
      "110   ?\n",
      "113   ?\n",
      "114   ?\n",
      "124   ?\n",
      "126   ?\n",
      "127   ?\n",
      "128   ?\n",
      "129   ?\n",
      "130   ?\n",
      "131   ?\n",
      "181   ?\n",
      "189   ?\n",
      "191   ?\n",
      "192   ?\n",
      "193   ?\n",
      "No. of special chars :  41\n"
     ]
    }
   ],
   "source": [
    "c=0\n",
    "for i,data in enumerate(df['normalized-losses']):\n",
    "    if not data.isnumeric():\n",
    "        c=c+1\n",
    "        print(i,\" \" ,data)\n",
    "print(\"No. of special chars : \",c)"
   ]
  },
  {
   "cell_type": "code",
   "execution_count": 7,
   "id": "be162f40",
   "metadata": {},
   "outputs": [],
   "source": [
    "#Replace '?' of normalised-losses with null values permanent\n",
    "df[\"normalized-losses\"].replace(\"?\",np.nan,inplace=True)\n",
    "#syntaX: replace(\"old value\",\"new value\",inplace=True)"
   ]
  },
  {
   "cell_type": "code",
   "execution_count": 8,
   "id": "be94adac",
   "metadata": {},
   "outputs": [
    {
     "data": {
      "text/plain": [
       "symboling             0\n",
       "normalized-losses    41\n",
       "make                  0\n",
       "fuel-type             0\n",
       "body-style            0\n",
       "drive-wheels          0\n",
       "engine-location       0\n",
       "width                 0\n",
       "height                0\n",
       "engine-type           0\n",
       "engine-size           0\n",
       "horsepower            0\n",
       "city-mpg              0\n",
       "highway-mpg           0\n",
       "price                 0\n",
       "dtype: int64"
      ]
     },
     "execution_count": 8,
     "metadata": {},
     "output_type": "execute_result"
    }
   ],
   "source": [
    "#To check null values\n",
    "df.isnull().sum()"
   ]
  },
  {
   "cell_type": "code",
   "execution_count": 9,
   "id": "1359f8b4",
   "metadata": {},
   "outputs": [],
   "source": [
    "#To change the datatype of normalized-losses from object to float\n",
    "#permanent : use inbuilt method astype()\n",
    "df[\"normalized-losses\"]=df[\"normalized-losses\"].astype(\"float\")"
   ]
  },
  {
   "cell_type": "code",
   "execution_count": 10,
   "id": "c3f6e43f",
   "metadata": {},
   "outputs": [],
   "source": [
    "#Fill null values with average/mean of normalized-losses column in \n",
    "#normalized-losses column permanent\n",
    "m=df[\"normalized-losses\"].mean()\n",
    "df[\"normalized-losses\"].fillna(m,inplace=True)"
   ]
  },
  {
   "cell_type": "code",
   "execution_count": 11,
   "id": "f5ba1e5e",
   "metadata": {},
   "outputs": [
    {
     "name": "stdout",
     "output_type": "stream",
     "text": [
      "130   ?\n",
      "131   ?\n",
      "No. of special chars :  2\n"
     ]
    }
   ],
   "source": [
    "c=0\n",
    "for i,data in enumerate(df['horsepower']):\n",
    "    if not data.isnumeric():\n",
    "        c=c+1\n",
    "        print(i,\" \" ,data)\n",
    "print(\"No. of special chars : \",c)"
   ]
  },
  {
   "cell_type": "code",
   "execution_count": 12,
   "id": "27be6c21",
   "metadata": {},
   "outputs": [],
   "source": [
    "#Replace '?' of horsepower with null values permanent\n",
    "df[\"horsepower\"].replace(\"?\",np.nan,inplace=True)"
   ]
  },
  {
   "cell_type": "code",
   "execution_count": 13,
   "id": "7390b31a",
   "metadata": {},
   "outputs": [
    {
     "data": {
      "text/plain": [
       "symboling            0\n",
       "normalized-losses    0\n",
       "make                 0\n",
       "fuel-type            0\n",
       "body-style           0\n",
       "drive-wheels         0\n",
       "engine-location      0\n",
       "width                0\n",
       "height               0\n",
       "engine-type          0\n",
       "engine-size          0\n",
       "horsepower           2\n",
       "city-mpg             0\n",
       "highway-mpg          0\n",
       "price                0\n",
       "dtype: int64"
      ]
     },
     "execution_count": 13,
     "metadata": {},
     "output_type": "execute_result"
    }
   ],
   "source": [
    "df.isnull().sum()"
   ]
  },
  {
   "cell_type": "code",
   "execution_count": 14,
   "id": "f1619fe4",
   "metadata": {},
   "outputs": [],
   "source": [
    "#To change the datatype of horsepower   from object to float\n",
    "#permanent : use inbuilt method astype()\n",
    "df[\"horsepower\"]=df[\"horsepower\"].astype(\"float\")"
   ]
  },
  {
   "cell_type": "code",
   "execution_count": 15,
   "id": "7aef5acc",
   "metadata": {},
   "outputs": [],
   "source": [
    "#Fill null values with average/mean of horsepower column in \n",
    "#horsepower column permanent\n",
    "m=df[\"horsepower\"].mean()\n",
    "df[\"horsepower\"].fillna(m,inplace=True)"
   ]
  },
  {
   "cell_type": "code",
   "execution_count": 16,
   "id": "25db3733",
   "metadata": {},
   "outputs": [
    {
     "data": {
      "text/plain": [
       "symboling            0\n",
       "normalized-losses    0\n",
       "make                 0\n",
       "fuel-type            0\n",
       "body-style           0\n",
       "drive-wheels         0\n",
       "engine-location      0\n",
       "width                0\n",
       "height               0\n",
       "engine-type          0\n",
       "engine-size          0\n",
       "horsepower           0\n",
       "city-mpg             0\n",
       "highway-mpg          0\n",
       "price                0\n",
       "dtype: int64"
      ]
     },
     "execution_count": 16,
     "metadata": {},
     "output_type": "execute_result"
    }
   ],
   "source": [
    "#again check null values in given dataset\n",
    "df.isnull().sum()"
   ]
  },
  {
   "cell_type": "code",
   "execution_count": 17,
   "id": "8a21476a",
   "metadata": {},
   "outputs": [
    {
     "data": {
      "text/plain": [
       "symboling              int64\n",
       "normalized-losses    float64\n",
       "make                  object\n",
       "fuel-type             object\n",
       "body-style            object\n",
       "drive-wheels          object\n",
       "engine-location       object\n",
       "width                float64\n",
       "height               float64\n",
       "engine-type           object\n",
       "engine-size            int64\n",
       "horsepower           float64\n",
       "city-mpg               int64\n",
       "highway-mpg            int64\n",
       "price                  int64\n",
       "dtype: object"
      ]
     },
     "execution_count": 17,
     "metadata": {},
     "output_type": "execute_result"
    }
   ],
   "source": [
    "df.dtypes"
   ]
  },
  {
   "cell_type": "code",
   "execution_count": 18,
   "id": "76e43cd6",
   "metadata": {},
   "outputs": [],
   "source": [
    "#separate numerical type column and object type column and store in new dataset\n",
    "df_num=df.select_dtypes([\"int64\",\"float64\"])#hold to int and float type data \n",
    "df_cat=df.select_dtypes(object)#hold object type data"
   ]
  },
  {
   "cell_type": "code",
   "execution_count": 19,
   "id": "d059c411",
   "metadata": {},
   "outputs": [
    {
     "data": {
      "text/plain": [
       "symboling              int64\n",
       "normalized-losses    float64\n",
       "width                float64\n",
       "height               float64\n",
       "engine-size            int64\n",
       "horsepower           float64\n",
       "city-mpg               int64\n",
       "highway-mpg            int64\n",
       "price                  int64\n",
       "dtype: object"
      ]
     },
     "execution_count": 19,
     "metadata": {},
     "output_type": "execute_result"
    }
   ],
   "source": [
    "df_num.dtypes"
   ]
  },
  {
   "cell_type": "code",
   "execution_count": 20,
   "id": "e4f78af1",
   "metadata": {},
   "outputs": [
    {
     "data": {
      "text/plain": [
       "make               object\n",
       "fuel-type          object\n",
       "body-style         object\n",
       "drive-wheels       object\n",
       "engine-location    object\n",
       "engine-type        object\n",
       "dtype: object"
      ]
     },
     "execution_count": 20,
     "metadata": {},
     "output_type": "execute_result"
    }
   ],
   "source": [
    "df_cat.dtypes"
   ]
  },
  {
   "cell_type": "code",
   "execution_count": 21,
   "id": "fcc86979",
   "metadata": {},
   "outputs": [],
   "source": [
    "#change the object type data into numerical type then use LabelEncoder class\n",
    "from sklearn.preprocessing import LabelEncoder"
   ]
  },
  {
   "cell_type": "code",
   "execution_count": 22,
   "id": "b1e4fbab",
   "metadata": {},
   "outputs": [],
   "source": [
    "for col in df_cat :\n",
    "    le=LabelEncoder() #create the object of LabelEncoder class\n",
    "    df_cat[col]=le.fit_transform(df_cat[col])"
   ]
  },
  {
   "cell_type": "code",
   "execution_count": 23,
   "id": "276651ec",
   "metadata": {},
   "outputs": [
    {
     "data": {
      "text/html": [
       "<div>\n",
       "<style scoped>\n",
       "    .dataframe tbody tr th:only-of-type {\n",
       "        vertical-align: middle;\n",
       "    }\n",
       "\n",
       "    .dataframe tbody tr th {\n",
       "        vertical-align: top;\n",
       "    }\n",
       "\n",
       "    .dataframe thead th {\n",
       "        text-align: right;\n",
       "    }\n",
       "</style>\n",
       "<table border=\"1\" class=\"dataframe\">\n",
       "  <thead>\n",
       "    <tr style=\"text-align: right;\">\n",
       "      <th></th>\n",
       "      <th>make</th>\n",
       "      <th>fuel-type</th>\n",
       "      <th>body-style</th>\n",
       "      <th>drive-wheels</th>\n",
       "      <th>engine-location</th>\n",
       "      <th>engine-type</th>\n",
       "    </tr>\n",
       "  </thead>\n",
       "  <tbody>\n",
       "    <tr>\n",
       "      <th>0</th>\n",
       "      <td>0</td>\n",
       "      <td>1</td>\n",
       "      <td>0</td>\n",
       "      <td>2</td>\n",
       "      <td>0</td>\n",
       "      <td>0</td>\n",
       "    </tr>\n",
       "    <tr>\n",
       "      <th>1</th>\n",
       "      <td>0</td>\n",
       "      <td>1</td>\n",
       "      <td>0</td>\n",
       "      <td>2</td>\n",
       "      <td>0</td>\n",
       "      <td>0</td>\n",
       "    </tr>\n",
       "    <tr>\n",
       "      <th>2</th>\n",
       "      <td>0</td>\n",
       "      <td>1</td>\n",
       "      <td>2</td>\n",
       "      <td>2</td>\n",
       "      <td>0</td>\n",
       "      <td>5</td>\n",
       "    </tr>\n",
       "    <tr>\n",
       "      <th>3</th>\n",
       "      <td>1</td>\n",
       "      <td>1</td>\n",
       "      <td>3</td>\n",
       "      <td>1</td>\n",
       "      <td>0</td>\n",
       "      <td>3</td>\n",
       "    </tr>\n",
       "    <tr>\n",
       "      <th>4</th>\n",
       "      <td>1</td>\n",
       "      <td>1</td>\n",
       "      <td>3</td>\n",
       "      <td>0</td>\n",
       "      <td>0</td>\n",
       "      <td>3</td>\n",
       "    </tr>\n",
       "  </tbody>\n",
       "</table>\n",
       "</div>"
      ],
      "text/plain": [
       "   make  fuel-type  body-style  drive-wheels  engine-location  engine-type\n",
       "0     0          1           0             2                0            0\n",
       "1     0          1           0             2                0            0\n",
       "2     0          1           2             2                0            5\n",
       "3     1          1           3             1                0            3\n",
       "4     1          1           3             0                0            3"
      ]
     },
     "execution_count": 23,
     "metadata": {},
     "output_type": "execute_result"
    }
   ],
   "source": [
    "df_cat.head()"
   ]
  },
  {
   "cell_type": "code",
   "execution_count": 24,
   "id": "8a8d1a5c",
   "metadata": {},
   "outputs": [
    {
     "data": {
      "text/html": [
       "<div>\n",
       "<style scoped>\n",
       "    .dataframe tbody tr th:only-of-type {\n",
       "        vertical-align: middle;\n",
       "    }\n",
       "\n",
       "    .dataframe tbody tr th {\n",
       "        vertical-align: top;\n",
       "    }\n",
       "\n",
       "    .dataframe thead th {\n",
       "        text-align: right;\n",
       "    }\n",
       "</style>\n",
       "<table border=\"1\" class=\"dataframe\">\n",
       "  <thead>\n",
       "    <tr style=\"text-align: right;\">\n",
       "      <th></th>\n",
       "      <th>symboling</th>\n",
       "      <th>normalized-losses</th>\n",
       "      <th>width</th>\n",
       "      <th>height</th>\n",
       "      <th>engine-size</th>\n",
       "      <th>horsepower</th>\n",
       "      <th>city-mpg</th>\n",
       "      <th>highway-mpg</th>\n",
       "      <th>price</th>\n",
       "      <th>make</th>\n",
       "      <th>fuel-type</th>\n",
       "      <th>body-style</th>\n",
       "      <th>drive-wheels</th>\n",
       "      <th>engine-location</th>\n",
       "      <th>engine-type</th>\n",
       "    </tr>\n",
       "  </thead>\n",
       "  <tbody>\n",
       "    <tr>\n",
       "      <th>0</th>\n",
       "      <td>3</td>\n",
       "      <td>122.0</td>\n",
       "      <td>64.1</td>\n",
       "      <td>48.8</td>\n",
       "      <td>130</td>\n",
       "      <td>111.0</td>\n",
       "      <td>21</td>\n",
       "      <td>27</td>\n",
       "      <td>13495</td>\n",
       "      <td>0</td>\n",
       "      <td>1</td>\n",
       "      <td>0</td>\n",
       "      <td>2</td>\n",
       "      <td>0</td>\n",
       "      <td>0</td>\n",
       "    </tr>\n",
       "    <tr>\n",
       "      <th>1</th>\n",
       "      <td>3</td>\n",
       "      <td>122.0</td>\n",
       "      <td>64.1</td>\n",
       "      <td>48.8</td>\n",
       "      <td>130</td>\n",
       "      <td>111.0</td>\n",
       "      <td>21</td>\n",
       "      <td>27</td>\n",
       "      <td>16500</td>\n",
       "      <td>0</td>\n",
       "      <td>1</td>\n",
       "      <td>0</td>\n",
       "      <td>2</td>\n",
       "      <td>0</td>\n",
       "      <td>0</td>\n",
       "    </tr>\n",
       "    <tr>\n",
       "      <th>2</th>\n",
       "      <td>1</td>\n",
       "      <td>122.0</td>\n",
       "      <td>65.5</td>\n",
       "      <td>52.4</td>\n",
       "      <td>152</td>\n",
       "      <td>154.0</td>\n",
       "      <td>19</td>\n",
       "      <td>26</td>\n",
       "      <td>16500</td>\n",
       "      <td>0</td>\n",
       "      <td>1</td>\n",
       "      <td>2</td>\n",
       "      <td>2</td>\n",
       "      <td>0</td>\n",
       "      <td>5</td>\n",
       "    </tr>\n",
       "    <tr>\n",
       "      <th>3</th>\n",
       "      <td>2</td>\n",
       "      <td>164.0</td>\n",
       "      <td>66.2</td>\n",
       "      <td>54.3</td>\n",
       "      <td>109</td>\n",
       "      <td>102.0</td>\n",
       "      <td>24</td>\n",
       "      <td>30</td>\n",
       "      <td>13950</td>\n",
       "      <td>1</td>\n",
       "      <td>1</td>\n",
       "      <td>3</td>\n",
       "      <td>1</td>\n",
       "      <td>0</td>\n",
       "      <td>3</td>\n",
       "    </tr>\n",
       "    <tr>\n",
       "      <th>4</th>\n",
       "      <td>2</td>\n",
       "      <td>164.0</td>\n",
       "      <td>66.4</td>\n",
       "      <td>54.3</td>\n",
       "      <td>136</td>\n",
       "      <td>115.0</td>\n",
       "      <td>18</td>\n",
       "      <td>22</td>\n",
       "      <td>17450</td>\n",
       "      <td>1</td>\n",
       "      <td>1</td>\n",
       "      <td>3</td>\n",
       "      <td>0</td>\n",
       "      <td>0</td>\n",
       "      <td>3</td>\n",
       "    </tr>\n",
       "  </tbody>\n",
       "</table>\n",
       "</div>"
      ],
      "text/plain": [
       "   symboling  normalized-losses  width  height  engine-size  horsepower  \\\n",
       "0          3              122.0   64.1    48.8          130       111.0   \n",
       "1          3              122.0   64.1    48.8          130       111.0   \n",
       "2          1              122.0   65.5    52.4          152       154.0   \n",
       "3          2              164.0   66.2    54.3          109       102.0   \n",
       "4          2              164.0   66.4    54.3          136       115.0   \n",
       "\n",
       "   city-mpg  highway-mpg  price  make  fuel-type  body-style  drive-wheels  \\\n",
       "0        21           27  13495     0          1           0             2   \n",
       "1        21           27  16500     0          1           0             2   \n",
       "2        19           26  16500     0          1           2             2   \n",
       "3        24           30  13950     1          1           3             1   \n",
       "4        18           22  17450     1          1           3             0   \n",
       "\n",
       "   engine-location  engine-type  \n",
       "0                0            0  \n",
       "1                0            0  \n",
       "2                0            5  \n",
       "3                0            3  \n",
       "4                0            3  "
      ]
     },
     "execution_count": 24,
     "metadata": {},
     "output_type": "execute_result"
    }
   ],
   "source": [
    "#concatenation of both dataset df_num and df_cat and hold new dataset df_new\n",
    "df_new=pd.concat([df_num,df_cat],axis=1) #axis=1 column wise\n",
    "df_new.head()"
   ]
  },
  {
   "cell_type": "code",
   "execution_count": 25,
   "id": "653113c6",
   "metadata": {},
   "outputs": [
    {
     "data": {
      "text/plain": [
       "symboling              int64\n",
       "normalized-losses    float64\n",
       "width                float64\n",
       "height               float64\n",
       "engine-size            int64\n",
       "horsepower           float64\n",
       "city-mpg               int64\n",
       "highway-mpg            int64\n",
       "price                  int64\n",
       "make                   int32\n",
       "fuel-type              int32\n",
       "body-style             int32\n",
       "drive-wheels           int32\n",
       "engine-location        int32\n",
       "engine-type            int32\n",
       "dtype: object"
      ]
     },
     "execution_count": 25,
     "metadata": {},
     "output_type": "execute_result"
    }
   ],
   "source": [
    "df_new.dtypes"
   ]
  },
  {
   "cell_type": "code",
   "execution_count": 26,
   "id": "f1a2aaa7",
   "metadata": {},
   "outputs": [
    {
     "data": {
      "text/plain": [
       "(205, 15)"
      ]
     },
     "execution_count": 26,
     "metadata": {},
     "output_type": "execute_result"
    }
   ],
   "source": [
    "df_new.shape"
   ]
  },
  {
   "cell_type": "code",
   "execution_count": 27,
   "id": "23c5ef0b",
   "metadata": {},
   "outputs": [],
   "source": [
    "#performing the model with the help of linear regression\n",
    "#we want to predict the car's price which are contineous numeric value\n",
    "#apply multiple linear regression because many input means many independent\n",
    "#variables or features and one target"
   ]
  },
  {
   "cell_type": "code",
   "execution_count": 28,
   "id": "9c7980f2",
   "metadata": {},
   "outputs": [],
   "source": [
    "#Select input and output from dataset df_new\n",
    "X=df_new.drop(\"price\",axis=1) #input\n",
    "Y=df_new['price'] #output "
   ]
  },
  {
   "cell_type": "code",
   "execution_count": 29,
   "id": "b4d69f01",
   "metadata": {},
   "outputs": [
    {
     "data": {
      "text/plain": [
       "pandas.core.series.Series"
      ]
     },
     "execution_count": 29,
     "metadata": {},
     "output_type": "execute_result"
    }
   ],
   "source": [
    "type(Y)"
   ]
  },
  {
   "cell_type": "code",
   "execution_count": 30,
   "id": "783ddebc",
   "metadata": {},
   "outputs": [
    {
     "data": {
      "text/plain": [
       "pandas.core.frame.DataFrame"
      ]
     },
     "execution_count": 30,
     "metadata": {},
     "output_type": "execute_result"
    }
   ],
   "source": [
    "type(X)"
   ]
  },
  {
   "cell_type": "code",
   "execution_count": 31,
   "id": "190dc530",
   "metadata": {},
   "outputs": [
    {
     "data": {
      "text/html": [
       "<div>\n",
       "<style scoped>\n",
       "    .dataframe tbody tr th:only-of-type {\n",
       "        vertical-align: middle;\n",
       "    }\n",
       "\n",
       "    .dataframe tbody tr th {\n",
       "        vertical-align: top;\n",
       "    }\n",
       "\n",
       "    .dataframe thead th {\n",
       "        text-align: right;\n",
       "    }\n",
       "</style>\n",
       "<table border=\"1\" class=\"dataframe\">\n",
       "  <thead>\n",
       "    <tr style=\"text-align: right;\">\n",
       "      <th></th>\n",
       "      <th>symboling</th>\n",
       "      <th>normalized-losses</th>\n",
       "      <th>width</th>\n",
       "      <th>height</th>\n",
       "      <th>engine-size</th>\n",
       "      <th>horsepower</th>\n",
       "      <th>city-mpg</th>\n",
       "      <th>highway-mpg</th>\n",
       "      <th>make</th>\n",
       "      <th>fuel-type</th>\n",
       "      <th>body-style</th>\n",
       "      <th>drive-wheels</th>\n",
       "      <th>engine-location</th>\n",
       "      <th>engine-type</th>\n",
       "    </tr>\n",
       "  </thead>\n",
       "  <tbody>\n",
       "    <tr>\n",
       "      <th>0</th>\n",
       "      <td>3</td>\n",
       "      <td>122.0</td>\n",
       "      <td>64.1</td>\n",
       "      <td>48.8</td>\n",
       "      <td>130</td>\n",
       "      <td>111.0</td>\n",
       "      <td>21</td>\n",
       "      <td>27</td>\n",
       "      <td>0</td>\n",
       "      <td>1</td>\n",
       "      <td>0</td>\n",
       "      <td>2</td>\n",
       "      <td>0</td>\n",
       "      <td>0</td>\n",
       "    </tr>\n",
       "    <tr>\n",
       "      <th>1</th>\n",
       "      <td>3</td>\n",
       "      <td>122.0</td>\n",
       "      <td>64.1</td>\n",
       "      <td>48.8</td>\n",
       "      <td>130</td>\n",
       "      <td>111.0</td>\n",
       "      <td>21</td>\n",
       "      <td>27</td>\n",
       "      <td>0</td>\n",
       "      <td>1</td>\n",
       "      <td>0</td>\n",
       "      <td>2</td>\n",
       "      <td>0</td>\n",
       "      <td>0</td>\n",
       "    </tr>\n",
       "    <tr>\n",
       "      <th>2</th>\n",
       "      <td>1</td>\n",
       "      <td>122.0</td>\n",
       "      <td>65.5</td>\n",
       "      <td>52.4</td>\n",
       "      <td>152</td>\n",
       "      <td>154.0</td>\n",
       "      <td>19</td>\n",
       "      <td>26</td>\n",
       "      <td>0</td>\n",
       "      <td>1</td>\n",
       "      <td>2</td>\n",
       "      <td>2</td>\n",
       "      <td>0</td>\n",
       "      <td>5</td>\n",
       "    </tr>\n",
       "    <tr>\n",
       "      <th>3</th>\n",
       "      <td>2</td>\n",
       "      <td>164.0</td>\n",
       "      <td>66.2</td>\n",
       "      <td>54.3</td>\n",
       "      <td>109</td>\n",
       "      <td>102.0</td>\n",
       "      <td>24</td>\n",
       "      <td>30</td>\n",
       "      <td>1</td>\n",
       "      <td>1</td>\n",
       "      <td>3</td>\n",
       "      <td>1</td>\n",
       "      <td>0</td>\n",
       "      <td>3</td>\n",
       "    </tr>\n",
       "    <tr>\n",
       "      <th>4</th>\n",
       "      <td>2</td>\n",
       "      <td>164.0</td>\n",
       "      <td>66.4</td>\n",
       "      <td>54.3</td>\n",
       "      <td>136</td>\n",
       "      <td>115.0</td>\n",
       "      <td>18</td>\n",
       "      <td>22</td>\n",
       "      <td>1</td>\n",
       "      <td>1</td>\n",
       "      <td>3</td>\n",
       "      <td>0</td>\n",
       "      <td>0</td>\n",
       "      <td>3</td>\n",
       "    </tr>\n",
       "  </tbody>\n",
       "</table>\n",
       "</div>"
      ],
      "text/plain": [
       "   symboling  normalized-losses  width  height  engine-size  horsepower  \\\n",
       "0          3              122.0   64.1    48.8          130       111.0   \n",
       "1          3              122.0   64.1    48.8          130       111.0   \n",
       "2          1              122.0   65.5    52.4          152       154.0   \n",
       "3          2              164.0   66.2    54.3          109       102.0   \n",
       "4          2              164.0   66.4    54.3          136       115.0   \n",
       "\n",
       "   city-mpg  highway-mpg  make  fuel-type  body-style  drive-wheels  \\\n",
       "0        21           27     0          1           0             2   \n",
       "1        21           27     0          1           0             2   \n",
       "2        19           26     0          1           2             2   \n",
       "3        24           30     1          1           3             1   \n",
       "4        18           22     1          1           3             0   \n",
       "\n",
       "   engine-location  engine-type  \n",
       "0                0            0  \n",
       "1                0            0  \n",
       "2                0            5  \n",
       "3                0            3  \n",
       "4                0            3  "
      ]
     },
     "execution_count": 31,
     "metadata": {},
     "output_type": "execute_result"
    }
   ],
   "source": [
    "X.head()"
   ]
  },
  {
   "cell_type": "code",
   "execution_count": 32,
   "id": "e1475b0a",
   "metadata": {},
   "outputs": [
    {
     "data": {
      "text/plain": [
       "0    13495\n",
       "1    16500\n",
       "2    16500\n",
       "3    13950\n",
       "4    17450\n",
       "Name: price, dtype: int64"
      ]
     },
     "execution_count": 32,
     "metadata": {},
     "output_type": "execute_result"
    }
   ],
   "source": [
    "Y.head()"
   ]
  },
  {
   "cell_type": "code",
   "execution_count": 33,
   "id": "35bad3b1",
   "metadata": {},
   "outputs": [],
   "source": [
    "#Train_test_split\n",
    "from sklearn.model_selection import train_test_split"
   ]
  },
  {
   "cell_type": "code",
   "execution_count": 34,
   "id": "92d50a3f",
   "metadata": {},
   "outputs": [],
   "source": [
    "X_train,X_test,Y_train,Y_test=train_test_split(X,Y,test_size=0.3,random_state=1)"
   ]
  },
  {
   "cell_type": "code",
   "execution_count": 35,
   "id": "53691138",
   "metadata": {},
   "outputs": [],
   "source": [
    "#give training data to m/c learning algo .(LinearRegression)\n",
    "from sklearn.linear_model import LinearRegression"
   ]
  },
  {
   "cell_type": "code",
   "execution_count": 36,
   "id": "36b7465e",
   "metadata": {},
   "outputs": [],
   "source": [
    "#Create the object of LinearRegression class\n",
    "lr=LinearRegression()"
   ]
  },
  {
   "cell_type": "code",
   "execution_count": 37,
   "id": "a594374f",
   "metadata": {},
   "outputs": [
    {
     "data": {
      "text/plain": [
       "LinearRegression()"
      ]
     },
     "execution_count": 37,
     "metadata": {},
     "output_type": "execute_result"
    }
   ],
   "source": [
    "#Train the model with 70% data\n",
    "lr.fit(X_train,Y_train)"
   ]
  },
  {
   "cell_type": "code",
   "execution_count": 38,
   "id": "a6126201",
   "metadata": {},
   "outputs": [
    {
     "data": {
      "text/plain": [
       "0.8504573774895474"
      ]
     },
     "execution_count": 38,
     "metadata": {},
     "output_type": "execute_result"
    }
   ],
   "source": [
    "#Check training score\n",
    "lr.score(X_train,Y_train)"
   ]
  },
  {
   "cell_type": "code",
   "execution_count": 39,
   "id": "28e51ab3",
   "metadata": {},
   "outputs": [],
   "source": [
    "#test the model\n",
    "#find Y_pred\n",
    "Y_pred=lr.predict(X_test)"
   ]
  },
  {
   "cell_type": "code",
   "execution_count": 40,
   "id": "0f98e640",
   "metadata": {},
   "outputs": [
    {
     "data": {
      "text/plain": [
       "0.7965566780397376"
      ]
     },
     "execution_count": 40,
     "metadata": {},
     "output_type": "execute_result"
    }
   ],
   "source": [
    "#check testing score\n",
    "lr.score(X_test,Y_test)"
   ]
  },
  {
   "cell_type": "code",
   "execution_count": 41,
   "id": "88e6071b",
   "metadata": {},
   "outputs": [],
   "source": [
    "#here Training score > testing score means testing error > training error\n",
    "#means model is overfitting so remove overfitting situation then \n",
    "#add external error on training time means apply regularization"
   ]
  },
  {
   "cell_type": "code",
   "execution_count": 42,
   "id": "2dfa3008",
   "metadata": {},
   "outputs": [
    {
     "name": "stdout",
     "output_type": "stream",
     "text": [
      "[45.14, 1.53, 789.45, 362.66, 98.37, -10.82, 308.02, -417.02, -200.1, -622.65, -170.24, 1868.61, 16413.36, 283.17]\n"
     ]
    }
   ],
   "source": [
    "#check coefficient /slope of each input : inbuilt method of coef_ of Linear\n",
    "#regression class before apply regularisation\n",
    "slope_before=lr.coef_\n",
    "#print(slope_before)\n",
    "m1=[np.round(m,2) for m in slope_before] #list comprehension\n",
    "print(m1)"
   ]
  },
  {
   "cell_type": "code",
   "execution_count": 43,
   "id": "047ccb8a",
   "metadata": {},
   "outputs": [
    {
     "data": {
      "text/plain": [
       "Index(['symboling', 'normalized-losses', 'width', 'height', 'engine-size',\n",
       "       'horsepower', 'city-mpg', 'highway-mpg', 'make', 'fuel-type',\n",
       "       'body-style', 'drive-wheels', 'engine-location', 'engine-type'],\n",
       "      dtype='object')"
      ]
     },
     "execution_count": 43,
     "metadata": {},
     "output_type": "execute_result"
    }
   ],
   "source": [
    "X_train.columns"
   ]
  },
  {
   "cell_type": "code",
   "execution_count": 44,
   "id": "011d06f0",
   "metadata": {},
   "outputs": [
    {
     "data": {
      "text/plain": [
       "-65022.76985995669"
      ]
     },
     "execution_count": 44,
     "metadata": {},
     "output_type": "execute_result"
    }
   ],
   "source": [
    "#check intercept before apply regularisation\n",
    "lr.intercept_"
   ]
  },
  {
   "cell_type": "code",
   "execution_count": 45,
   "id": "89bc9a2c",
   "metadata": {},
   "outputs": [],
   "source": [
    "#here model is overfit because training score>testing score\n",
    "#How do we take care of overfitting means to reduced overfitting situation \n",
    "#then use Regularisation : -  \n",
    "#There are 2 types of Regularisation\n",
    "#use L1 : Lasso and L2 : Ridge  regularization"
   ]
  },
  {
   "cell_type": "code",
   "execution_count": 46,
   "id": "13133eb3",
   "metadata": {},
   "outputs": [
    {
     "data": {
      "text/plain": [
       "' Add some error during training time \\n   1. Lasso Regularization : L1  \\n   RSS+lambda*sum(abs(all coefficient)) here lambda is also known as \\n   hyper-parameter, value of lambda  can be 200,400,600,..1000\\n   2. Ridge Regularization : L2\\n   RSS+lambda*sum(square(all coefficient)) here lambda is also known as \\n   hyper-parameter, value of lambda  can be 0 to 50\\n    '"
      ]
     },
     "execution_count": 46,
     "metadata": {},
     "output_type": "execute_result"
    }
   ],
   "source": [
    "''' Add some error during training time \n",
    "   1. Lasso Regularization : L1  \n",
    "   RSS+lambda*sum(abs(all coefficient)) here lambda is also known as \n",
    "   hyper-parameter, value of lambda  can be 200,400,600,..1000\n",
    "   2. Ridge Regularization : L2\n",
    "   RSS+lambda*sum(square(all coefficient)) here lambda is also known as \n",
    "   hyper-parameter, value of lambda  can be 0 to 50\n",
    "    '''"
   ]
  },
  {
   "cell_type": "code",
   "execution_count": 47,
   "id": "346dfea7",
   "metadata": {},
   "outputs": [],
   "source": [
    "#Lasso Regualrization means L1 call inbuilt class Lasso\n",
    "from sklearn.linear_model import Lasso "
   ]
  },
  {
   "cell_type": "code",
   "execution_count": 48,
   "id": "fcba910e",
   "metadata": {},
   "outputs": [],
   "source": [
    "#create the object of class Lasso\n",
    "l1=Lasso(1000) #RSS+1000*sum(abs(all features))\n",
    " #passing the value of lambda or alpha(both are hyperparameter)\n",
    "    #which are 200...1000 during create the object of class Lasso\n",
    "    #why take value of lambda=1000 ? explain later"
   ]
  },
  {
   "cell_type": "code",
   "execution_count": 49,
   "id": "5ee1488e",
   "metadata": {},
   "outputs": [
    {
     "data": {
      "text/plain": [
       "Lasso(alpha=1000)"
      ]
     },
     "execution_count": 49,
     "metadata": {},
     "output_type": "execute_result"
    }
   ],
   "source": [
    "#train the model with Lasso\n",
    "l1.fit(X_train,Y_train)"
   ]
  },
  {
   "cell_type": "code",
   "execution_count": 50,
   "id": "7981d499",
   "metadata": {},
   "outputs": [
    {
     "data": {
      "text/plain": [
       "0.7571378367701931"
      ]
     },
     "execution_count": 50,
     "metadata": {},
     "output_type": "execute_result"
    }
   ],
   "source": [
    "#check score of training \n",
    "l1.score(X_train,Y_train)"
   ]
  },
  {
   "cell_type": "code",
   "execution_count": 51,
   "id": "1d4febc5",
   "metadata": {},
   "outputs": [
    {
     "data": {
      "text/plain": [
       "0.7909522259248711"
      ]
     },
     "execution_count": 51,
     "metadata": {},
     "output_type": "execute_result"
    }
   ],
   "source": [
    "#check score of testing\n",
    "l1.score(X_test,Y_test)"
   ]
  },
  {
   "cell_type": "code",
   "execution_count": 52,
   "id": "a352b939",
   "metadata": {},
   "outputs": [
    {
     "name": "stdout",
     "output_type": "stream",
     "text": [
      "\n",
      "Value of Lambda : 200\n",
      "Training score : 0.7987416970006662 and Testing Score : 0.8139201358023781\n",
      "\n",
      "Value of Lambda : 250\n",
      "Training score : 0.7813830614755177 and Testing Score : 0.8124219090780231\n",
      "\n",
      "Value of Lambda : 300\n",
      "Training score : 0.7770052434923614 and Testing Score : 0.8085057299003379\n",
      "\n",
      "Value of Lambda : 350\n",
      "Training score : 0.7718310001161615 and Testing Score : 0.8036053753129061\n",
      "\n",
      "Value of Lambda : 400\n",
      "Training score : 0.7658616845894823 and Testing Score : 0.7977229768452248\n",
      "\n",
      "Value of Lambda : 450\n",
      "Training score : 0.7629172866915856 and Testing Score : 0.7950465607641612\n",
      "\n",
      "Value of Lambda : 500\n",
      "Training score : 0.7623627856030828 and Testing Score : 0.7946028204251038\n",
      "\n",
      "Value of Lambda : 550\n",
      "Training score : 0.7619482216545304 and Testing Score : 0.7942485978551437\n",
      "\n",
      "Value of Lambda : 600\n",
      "Training score : 0.7614935673272373 and Testing Score : 0.7938656404830355\n",
      "\n",
      "Value of Lambda : 650\n",
      "Training score : 0.7609979977249848 and Testing Score : 0.7934536226456452\n",
      "\n",
      "Value of Lambda : 700\n",
      "Training score : 0.7604640291241571 and Testing Score : 0.7930208714948073\n",
      "\n",
      "Value of Lambda : 750\n",
      "Training score : 0.7598908737085027 and Testing Score : 0.792563723506569\n",
      "\n",
      "Value of Lambda : 800\n",
      "Training score : 0.7592781949938978 and Testing Score : 0.7920812896372944\n",
      "\n",
      "Value of Lambda : 850\n",
      "Training score : 0.7586255604359616 and Testing Score : 0.7915726589657284\n",
      "\n",
      "Value of Lambda : 900\n",
      "Training score : 0.7579499521293308 and Testing Score : 0.7910703319438239\n",
      "\n",
      "Value of Lambda : 950\n",
      "Training score : 0.7575545480051227 and Testing Score : 0.7910205756985365\n",
      "\n",
      "Value of Lambda : 1000\n",
      "Training score : 0.7571378367701931 and Testing Score : 0.7909522259248711\n"
     ]
    }
   ],
   "source": [
    "#Select right value of lambda/alpha  for lasso\n",
    "for i in range(200,1001,50) : #start=200 stop=1001-1=1000 step=+50\n",
    "    #create the object of Lasso\n",
    "    l1=Lasso(i) #first time i=200 ,next time 250\n",
    "    #train the model witj Lasso\n",
    "    l1.fit(X_train,Y_train)\n",
    "    #check training score\n",
    "    S1=l1.score(X_train,Y_train)\n",
    "    #check testing score\n",
    "    S2=l1.score(X_test,Y_test)\n",
    "    print(\"\\nValue of Lambda : {}\".format(i))\n",
    "    print(\"Training score : {} and Testing Score : {}\".format(S1,S2))"
   ]
  },
  {
   "cell_type": "code",
   "execution_count": 53,
   "id": "96d7f17f",
   "metadata": {},
   "outputs": [],
   "source": [
    "#clear right value of lambda in this dataset in case of lasso=200\n",
    "#testing score=0.81  and training score =0.79"
   ]
  },
  {
   "cell_type": "code",
   "execution_count": 54,
   "id": "b3a00b19",
   "metadata": {},
   "outputs": [
    {
     "name": "stdout",
     "output_type": "stream",
     "text": [
      "[0.0, 3.96, 0.0, 276.93, 135.34, 16.0, -0.0, -113.03, -126.41, -0.0, -0.0, 0.0, 0.0, 0.0]\n"
     ]
    }
   ],
   "source": [
    "#check slope after apply Lasso Regularisation\n",
    "after_slope=l1.coef_\n",
    "#print(after_slope)\n",
    "m2=[np.round(m,2) for m in after_slope] #list comprehension\n",
    "print(m2)"
   ]
  },
  {
   "cell_type": "code",
   "execution_count": 55,
   "id": "bb1a5840",
   "metadata": {},
   "outputs": [
    {
     "name": "stdout",
     "output_type": "stream",
     "text": [
      "[45.14, 1.53, 789.45, 362.66, 98.37, -10.82, 308.02, -417.02, -200.1, -622.65, -170.24, 1868.61, 16413.36, 283.17]\n"
     ]
    }
   ],
   "source": [
    "#before apply Lasso\n",
    "print(m1)"
   ]
  },
  {
   "cell_type": "code",
   "execution_count": 56,
   "id": "27b09045",
   "metadata": {},
   "outputs": [
    {
     "data": {
      "text/plain": [
       "Index(['symboling', 'normalized-losses', 'width', 'height', 'engine-size',\n",
       "       'horsepower', 'city-mpg', 'highway-mpg', 'make', 'fuel-type',\n",
       "       'body-style', 'drive-wheels', 'engine-location', 'engine-type'],\n",
       "      dtype='object')"
      ]
     },
     "execution_count": 56,
     "metadata": {},
     "output_type": "execute_result"
    }
   ],
   "source": [
    "X.columns #input features"
   ]
  },
  {
   "cell_type": "code",
   "execution_count": 57,
   "id": "bc8f411e",
   "metadata": {},
   "outputs": [
    {
     "data": {
      "text/html": [
       "<div>\n",
       "<style scoped>\n",
       "    .dataframe tbody tr th:only-of-type {\n",
       "        vertical-align: middle;\n",
       "    }\n",
       "\n",
       "    .dataframe tbody tr th {\n",
       "        vertical-align: top;\n",
       "    }\n",
       "\n",
       "    .dataframe thead th {\n",
       "        text-align: right;\n",
       "    }\n",
       "</style>\n",
       "<table border=\"1\" class=\"dataframe\">\n",
       "  <thead>\n",
       "    <tr style=\"text-align: right;\">\n",
       "      <th></th>\n",
       "      <th>Inputs</th>\n",
       "      <th>Slope Before apply Lasso</th>\n",
       "      <th>Slope After apply Lasso</th>\n",
       "    </tr>\n",
       "  </thead>\n",
       "  <tbody>\n",
       "    <tr>\n",
       "      <th>0</th>\n",
       "      <td>symboling</td>\n",
       "      <td>45.14</td>\n",
       "      <td>0.00</td>\n",
       "    </tr>\n",
       "    <tr>\n",
       "      <th>1</th>\n",
       "      <td>normalized-losses</td>\n",
       "      <td>1.53</td>\n",
       "      <td>3.96</td>\n",
       "    </tr>\n",
       "    <tr>\n",
       "      <th>2</th>\n",
       "      <td>width</td>\n",
       "      <td>789.45</td>\n",
       "      <td>0.00</td>\n",
       "    </tr>\n",
       "    <tr>\n",
       "      <th>3</th>\n",
       "      <td>height</td>\n",
       "      <td>362.66</td>\n",
       "      <td>276.93</td>\n",
       "    </tr>\n",
       "    <tr>\n",
       "      <th>4</th>\n",
       "      <td>engine-size</td>\n",
       "      <td>98.37</td>\n",
       "      <td>135.34</td>\n",
       "    </tr>\n",
       "    <tr>\n",
       "      <th>5</th>\n",
       "      <td>horsepower</td>\n",
       "      <td>-10.82</td>\n",
       "      <td>16.00</td>\n",
       "    </tr>\n",
       "    <tr>\n",
       "      <th>6</th>\n",
       "      <td>city-mpg</td>\n",
       "      <td>308.02</td>\n",
       "      <td>-0.00</td>\n",
       "    </tr>\n",
       "    <tr>\n",
       "      <th>7</th>\n",
       "      <td>highway-mpg</td>\n",
       "      <td>-417.02</td>\n",
       "      <td>-113.03</td>\n",
       "    </tr>\n",
       "    <tr>\n",
       "      <th>8</th>\n",
       "      <td>make</td>\n",
       "      <td>-200.10</td>\n",
       "      <td>-126.41</td>\n",
       "    </tr>\n",
       "    <tr>\n",
       "      <th>9</th>\n",
       "      <td>fuel-type</td>\n",
       "      <td>-622.65</td>\n",
       "      <td>-0.00</td>\n",
       "    </tr>\n",
       "    <tr>\n",
       "      <th>10</th>\n",
       "      <td>body-style</td>\n",
       "      <td>-170.24</td>\n",
       "      <td>-0.00</td>\n",
       "    </tr>\n",
       "    <tr>\n",
       "      <th>11</th>\n",
       "      <td>drive-wheels</td>\n",
       "      <td>1868.61</td>\n",
       "      <td>0.00</td>\n",
       "    </tr>\n",
       "    <tr>\n",
       "      <th>12</th>\n",
       "      <td>engine-location</td>\n",
       "      <td>16413.36</td>\n",
       "      <td>0.00</td>\n",
       "    </tr>\n",
       "    <tr>\n",
       "      <th>13</th>\n",
       "      <td>engine-type</td>\n",
       "      <td>283.17</td>\n",
       "      <td>0.00</td>\n",
       "    </tr>\n",
       "  </tbody>\n",
       "</table>\n",
       "</div>"
      ],
      "text/plain": [
       "               Inputs  Slope Before apply Lasso  Slope After apply Lasso\n",
       "0           symboling                     45.14                     0.00\n",
       "1   normalized-losses                      1.53                     3.96\n",
       "2               width                    789.45                     0.00\n",
       "3              height                    362.66                   276.93\n",
       "4         engine-size                     98.37                   135.34\n",
       "5          horsepower                    -10.82                    16.00\n",
       "6            city-mpg                    308.02                    -0.00\n",
       "7         highway-mpg                   -417.02                  -113.03\n",
       "8                make                   -200.10                  -126.41\n",
       "9           fuel-type                   -622.65                    -0.00\n",
       "10         body-style                   -170.24                    -0.00\n",
       "11       drive-wheels                   1868.61                     0.00\n",
       "12    engine-location                  16413.36                     0.00\n",
       "13        engine-type                    283.17                     0.00"
      ]
     },
     "execution_count": 57,
     "metadata": {},
     "output_type": "execute_result"
    }
   ],
   "source": [
    "#create a dataframe\n",
    "dic={'Inputs':X.columns,'Slope Before apply Lasso':m1,\n",
    "    'Slope After apply Lasso':m2}\n",
    "df1=pd.DataFrame(dic)\n",
    "df1"
   ]
  },
  {
   "cell_type": "code",
   "execution_count": null,
   "id": "0d1393d5",
   "metadata": {},
   "outputs": [],
   "source": [
    "#Right value of Lambda =200 in case of Lasso \n",
    "#then score=0.81"
   ]
  },
  {
   "cell_type": "code",
   "execution_count": 58,
   "id": "750cadd2",
   "metadata": {},
   "outputs": [],
   "source": [
    "#Ridge Regularisation : -\n",
    "#Ridge Regualrization means L2 call inbuilt class Ridge\n",
    "from sklearn.linear_model import Ridge"
   ]
  },
  {
   "cell_type": "code",
   "execution_count": null,
   "id": "bada9ae1",
   "metadata": {},
   "outputs": [],
   "source": [
    "#in case of Ridge Regularisation , value of lambda/alpha=0 to 50\n",
    "#formula = RSS Error+lambda*sum(all slope)**2"
   ]
  },
  {
   "cell_type": "code",
   "execution_count": 59,
   "id": "c7829e40",
   "metadata": {},
   "outputs": [
    {
     "name": "stdout",
     "output_type": "stream",
     "text": [
      "\n",
      "Value of Lambda : 0\n",
      "Training score : 0.8504573774895473 and Testing Score : 0.7965566780397382\n",
      "\n",
      "Value of Lambda : 1\n",
      "Training score : 0.8436019887231634 and Testing Score : 0.8074518758147275\n",
      "\n",
      "Value of Lambda : 2\n",
      "Training score : 0.8356568294333326 and Testing Score : 0.8110292248150515\n",
      "\n",
      "Value of Lambda : 3\n",
      "Training score : 0.829596685378384 and Testing Score : 0.8126933383890034\n",
      "\n",
      "Value of Lambda : 4\n",
      "Training score : 0.8250050456621351 and Testing Score : 0.8136148645029299\n",
      "\n",
      "Value of Lambda : 5\n",
      "Training score : 0.8214255248858175 and Testing Score : 0.814174585353942\n",
      "\n",
      "Value of Lambda : 6\n",
      "Training score : 0.818549790564273 and Testing Score : 0.8145301242133355\n",
      "\n",
      "Value of Lambda : 7\n",
      "Training score : 0.8161775446879698 and Testing Score : 0.8147582608502814\n",
      "\n",
      "Value of Lambda : 8\n",
      "Training score : 0.8141763553347594 and Testing Score : 0.8149010602831952\n",
      "\n",
      "Value of Lambda : 9\n",
      "Training score : 0.8124561449821563 and Testing Score : 0.8149836949253053\n",
      "\n",
      "Value of Lambda : 10\n",
      "Training score : 0.8109538582620313 and Testing Score : 0.815022286737653\n",
      "\n",
      "Value of Lambda : 11\n",
      "Training score : 0.8096241695970485 and Testing Score : 0.815027724543179\n",
      "\n",
      "Value of Lambda : 12\n",
      "Training score : 0.8084337140523126 and Testing Score : 0.8150076788279417\n",
      "\n",
      "Value of Lambda : 13\n",
      "Training score : 0.807357406111595 and Testing Score : 0.8149677381788261\n",
      "\n",
      "Value of Lambda : 14\n",
      "Training score : 0.8063760269401784 and Testing Score : 0.8149120868051172\n",
      "\n",
      "Value of Lambda : 15\n",
      "Training score : 0.8054746030665227 and Testing Score : 0.8148439278252522\n",
      "\n",
      "Value of Lambda : 16\n",
      "Training score : 0.8046412917341841 and Testing Score : 0.8147657584947388\n",
      "\n",
      "Value of Lambda : 17\n",
      "Training score : 0.8038665985400392 and Testing Score : 0.8146795554128125\n",
      "\n",
      "Value of Lambda : 18\n",
      "Training score : 0.8031428178838969 and Testing Score : 0.8145869029046833\n",
      "\n",
      "Value of Lambda : 19\n",
      "Training score : 0.8024636258876571 and Testing Score : 0.8144890843369585\n",
      "\n",
      "Value of Lambda : 20\n",
      "Training score : 0.8018237796035677 and Testing Score : 0.8143871485445551\n",
      "\n",
      "Value of Lambda : 21\n",
      "Training score : 0.8012188915864452 and Testing Score : 0.8142819591129824\n",
      "\n",
      "Value of Lambda : 22\n",
      "Training score : 0.8006452587395114 and Testing Score : 0.8141742315788494\n",
      "\n",
      "Value of Lambda : 23\n",
      "Training score : 0.8000997308073307 and Testing Score : 0.8140645619421536\n",
      "\n",
      "Value of Lambda : 24\n",
      "Training score : 0.7995796082141255 and Testing Score : 0.8139534488166059\n",
      "\n",
      "Value of Lambda : 25\n",
      "Training score : 0.7990825618875557 and Testing Score : 0.8138413108452038\n",
      "\n",
      "Value of Lambda : 26\n",
      "Training score : 0.7986065697399167 and Testing Score : 0.8137285005403769\n",
      "\n",
      "Value of Lambda : 27\n",
      "Training score : 0.7981498659021866 and Testing Score : 0.8136153153884842\n",
      "\n",
      "Value of Lambda : 28\n",
      "Training score : 0.7977108998167778 and Testing Score : 0.8135020068362637\n",
      "\n",
      "Value of Lambda : 29\n",
      "Training score : 0.7972883030209656 and Testing Score : 0.8133887876197212\n",
      "\n",
      "Value of Lambda : 30\n",
      "Training score : 0.7968808619807589 and Testing Score : 0.8132758377831447\n",
      "\n",
      "Value of Lambda : 31\n",
      "Training score : 0.7964874957227428 and Testing Score : 0.813163309653795\n",
      "\n",
      "Value of Lambda : 32\n",
      "Training score : 0.7961072372991724 and Testing Score : 0.8130513319772293\n",
      "\n",
      "Value of Lambda : 33\n",
      "Training score : 0.7957392183371695 and Testing Score : 0.8129400133729974\n",
      "\n",
      "Value of Lambda : 34\n",
      "Training score : 0.7953826560857553 and Testing Score : 0.8128294452363017\n",
      "\n",
      "Value of Lambda : 35\n",
      "Training score : 0.7950368424986249 and Testing Score : 0.8127197041851855\n",
      "\n",
      "Value of Lambda : 36\n",
      "Training score : 0.7947011349858958 and Testing Score : 0.8126108541327798\n",
      "\n",
      "Value of Lambda : 37\n",
      "Training score : 0.7943749485418696 and Testing Score : 0.8125029480485761\n",
      "\n",
      "Value of Lambda : 38\n",
      "Training score : 0.7940577490133228 and Testing Score : 0.8123960294605082\n",
      "\n",
      "Value of Lambda : 39\n",
      "Training score : 0.7937490473179627 and Testing Score : 0.8122901337400302\n",
      "\n",
      "Value of Lambda : 40\n",
      "Training score : 0.7934483944582852 and Testing Score : 0.8121852892047274\n",
      "\n",
      "Value of Lambda : 41\n",
      "Training score : 0.7931553772043529 and Testing Score : 0.812081518066906\n",
      "\n",
      "Value of Lambda : 42\n",
      "Training score : 0.7928696143416054 and Testing Score : 0.8119788372516912\n",
      "\n",
      "Value of Lambda : 43\n",
      "Training score : 0.7925907533979552 and Testing Score : 0.8118772591041921\n",
      "\n",
      "Value of Lambda : 44\n",
      "Training score : 0.792318467779072 and Testing Score : 0.8117767920020493\n",
      "\n",
      "Value of Lambda : 45\n",
      "Training score : 0.7920524542526479 and Testing Score : 0.8116774408870527\n",
      "\n",
      "Value of Lambda : 46\n",
      "Training score : 0.7917924307321205 and Testing Score : 0.8115792077273271\n",
      "\n",
      "Value of Lambda : 47\n",
      "Training score : 0.7915381343182769 and Testing Score : 0.8114820919198035\n",
      "\n",
      "Value of Lambda : 48\n",
      "Training score : 0.7912893195636813 and Testing Score : 0.8113860906412017\n",
      "\n",
      "Value of Lambda : 49\n",
      "Training score : 0.7910457569302702 and Testing Score : 0.8112911991545091\n",
      "\n",
      "Value of Lambda : 50\n",
      "Training score : 0.7908072314149309 and Testing Score : 0.811197411076921\n"
     ]
    }
   ],
   "source": [
    "for i in range(0,51,1) : #start=0 stop=51-1=50 step=+1\n",
    "    #create the object of Lasso\n",
    "    l2=Ridge(i) #first time i=0 ,next time 1\n",
    "    #train the model with Ridge\n",
    "    l2.fit(X_train,Y_train)\n",
    "    #check training score\n",
    "    S1=l2.score(X_train,Y_train)\n",
    "    #check testing score\n",
    "    S2=l2.score(X_test,Y_test)\n",
    "    print(\"\\nValue of Lambda : {}\".format(i))\n",
    "    print(\"Training score : {} and Testing Score : {}\".format(S1,S2))"
   ]
  },
  {
   "cell_type": "code",
   "execution_count": 62,
   "id": "bb15c2bc",
   "metadata": {},
   "outputs": [
    {
     "name": "stdout",
     "output_type": "stream",
     "text": [
      "[166.16, 2.51, 309.36, 525.52, 113.31, 23.98, 161.64, -225.45, -172.76, -365.68, -479.84, 777.91, 622.92, 380.57]\n"
     ]
    }
   ],
   "source": [
    "#check slope after apply Ridge Regularisation\n",
    "after_slope=l2.coef_\n",
    "#print(after_slope)\n",
    "m2=[np.round(m,2) for m in after_slope] #list comprehension\n",
    "print(m2)"
   ]
  },
  {
   "cell_type": "code",
   "execution_count": 64,
   "id": "5cc36f47",
   "metadata": {},
   "outputs": [
    {
     "data": {
      "text/html": [
       "<div>\n",
       "<style scoped>\n",
       "    .dataframe tbody tr th:only-of-type {\n",
       "        vertical-align: middle;\n",
       "    }\n",
       "\n",
       "    .dataframe tbody tr th {\n",
       "        vertical-align: top;\n",
       "    }\n",
       "\n",
       "    .dataframe thead th {\n",
       "        text-align: right;\n",
       "    }\n",
       "</style>\n",
       "<table border=\"1\" class=\"dataframe\">\n",
       "  <thead>\n",
       "    <tr style=\"text-align: right;\">\n",
       "      <th></th>\n",
       "      <th>Inputs</th>\n",
       "      <th>Slope Before apply Ridge</th>\n",
       "      <th>Slope After apply Ridge</th>\n",
       "    </tr>\n",
       "  </thead>\n",
       "  <tbody>\n",
       "    <tr>\n",
       "      <th>0</th>\n",
       "      <td>symboling</td>\n",
       "      <td>45.14</td>\n",
       "      <td>166.16</td>\n",
       "    </tr>\n",
       "    <tr>\n",
       "      <th>1</th>\n",
       "      <td>normalized-losses</td>\n",
       "      <td>1.53</td>\n",
       "      <td>2.51</td>\n",
       "    </tr>\n",
       "    <tr>\n",
       "      <th>2</th>\n",
       "      <td>width</td>\n",
       "      <td>789.45</td>\n",
       "      <td>309.36</td>\n",
       "    </tr>\n",
       "    <tr>\n",
       "      <th>3</th>\n",
       "      <td>height</td>\n",
       "      <td>362.66</td>\n",
       "      <td>525.52</td>\n",
       "    </tr>\n",
       "    <tr>\n",
       "      <th>4</th>\n",
       "      <td>engine-size</td>\n",
       "      <td>98.37</td>\n",
       "      <td>113.31</td>\n",
       "    </tr>\n",
       "    <tr>\n",
       "      <th>5</th>\n",
       "      <td>horsepower</td>\n",
       "      <td>-10.82</td>\n",
       "      <td>23.98</td>\n",
       "    </tr>\n",
       "    <tr>\n",
       "      <th>6</th>\n",
       "      <td>city-mpg</td>\n",
       "      <td>308.02</td>\n",
       "      <td>161.64</td>\n",
       "    </tr>\n",
       "    <tr>\n",
       "      <th>7</th>\n",
       "      <td>highway-mpg</td>\n",
       "      <td>-417.02</td>\n",
       "      <td>-225.45</td>\n",
       "    </tr>\n",
       "    <tr>\n",
       "      <th>8</th>\n",
       "      <td>make</td>\n",
       "      <td>-200.10</td>\n",
       "      <td>-172.76</td>\n",
       "    </tr>\n",
       "    <tr>\n",
       "      <th>9</th>\n",
       "      <td>fuel-type</td>\n",
       "      <td>-622.65</td>\n",
       "      <td>-365.68</td>\n",
       "    </tr>\n",
       "    <tr>\n",
       "      <th>10</th>\n",
       "      <td>body-style</td>\n",
       "      <td>-170.24</td>\n",
       "      <td>-479.84</td>\n",
       "    </tr>\n",
       "    <tr>\n",
       "      <th>11</th>\n",
       "      <td>drive-wheels</td>\n",
       "      <td>1868.61</td>\n",
       "      <td>777.91</td>\n",
       "    </tr>\n",
       "    <tr>\n",
       "      <th>12</th>\n",
       "      <td>engine-location</td>\n",
       "      <td>16413.36</td>\n",
       "      <td>622.92</td>\n",
       "    </tr>\n",
       "    <tr>\n",
       "      <th>13</th>\n",
       "      <td>engine-type</td>\n",
       "      <td>283.17</td>\n",
       "      <td>380.57</td>\n",
       "    </tr>\n",
       "  </tbody>\n",
       "</table>\n",
       "</div>"
      ],
      "text/plain": [
       "               Inputs  Slope Before apply Ridge  Slope After apply Ridge\n",
       "0           symboling                     45.14                   166.16\n",
       "1   normalized-losses                      1.53                     2.51\n",
       "2               width                    789.45                   309.36\n",
       "3              height                    362.66                   525.52\n",
       "4         engine-size                     98.37                   113.31\n",
       "5          horsepower                    -10.82                    23.98\n",
       "6            city-mpg                    308.02                   161.64\n",
       "7         highway-mpg                   -417.02                  -225.45\n",
       "8                make                   -200.10                  -172.76\n",
       "9           fuel-type                   -622.65                  -365.68\n",
       "10         body-style                   -170.24                  -479.84\n",
       "11       drive-wheels                   1868.61                   777.91\n",
       "12    engine-location                  16413.36                   622.92\n",
       "13        engine-type                    283.17                   380.57"
      ]
     },
     "execution_count": 64,
     "metadata": {},
     "output_type": "execute_result"
    }
   ],
   "source": [
    "#create a dataframe\n",
    "dic={'Inputs':X.columns,'Slope Before apply Ridge':m1,\n",
    "    'Slope After apply Ridge':m2}\n",
    "df1=pd.DataFrame(dic)\n",
    "df1"
   ]
  },
  {
   "cell_type": "code",
   "execution_count": null,
   "id": "4e4df672",
   "metadata": {},
   "outputs": [],
   "source": [
    "#right value of lambda =2 , score =0.81 in ridge\n",
    "#right value of lambda=200 , score=0.81 in Lasso"
   ]
  },
  {
   "cell_type": "code",
   "execution_count": 66,
   "id": "ff9ab215",
   "metadata": {},
   "outputs": [],
   "source": [
    "#Apply Cross Validation  why? \n",
    "#select Either Lasso is best or Ridge is best for this dataset\n",
    "#because score are same in both regularisation\n",
    "from sklearn.model_selection import cross_val_score\n",
    "#cross_val_score  inbuilt class"
   ]
  },
  {
   "cell_type": "code",
   "execution_count": 67,
   "id": "9c8241ff",
   "metadata": {},
   "outputs": [],
   "source": [
    "#Create the object of  Lasso class and pass value of alpha or lambda =200\n",
    "l1=Lasso(200)"
   ]
  },
  {
   "cell_type": "code",
   "execution_count": 68,
   "id": "35edb2fb",
   "metadata": {},
   "outputs": [],
   "source": [
    "#create object of cross_val_score and pass object of lasso and input and output\n",
    "#and also pass no. of parts of data\n",
    "cross_l1=cross_val_score(l1,X,Y,cv=4) #Note minimum cv=4 or more\n",
    "#here l1 object of Lasso and \n",
    "#X input and Y output and cv means divided the no. of parts of data=4"
   ]
  },
  {
   "cell_type": "code",
   "execution_count": 69,
   "id": "2f184f6c",
   "metadata": {},
   "outputs": [
    {
     "data": {
      "text/plain": [
       "array([0.76560829, 0.81872367, 0.43344753, 0.448364  ])"
      ]
     },
     "execution_count": 69,
     "metadata": {},
     "output_type": "execute_result"
    }
   ],
   "source": [
    "#check score of each iterations\n",
    "cross_l1"
   ]
  },
  {
   "cell_type": "code",
   "execution_count": 71,
   "id": "3f239108",
   "metadata": {},
   "outputs": [
    {
     "name": "stdout",
     "output_type": "stream",
     "text": [
      "Mean/average score for cross validation in Lasso :  0.6165358705430697\n"
     ]
    }
   ],
   "source": [
    "#find the average score for cross validation in Lasso\n",
    "m=cross_l1.mean()\n",
    "print(\"Mean/average score for cross validation in Lasso : \",m)"
   ]
  },
  {
   "cell_type": "code",
   "execution_count": 72,
   "id": "50328625",
   "metadata": {},
   "outputs": [],
   "source": [
    "#Create the object of  Ridge class and pass value of alpha or lambda =2\n",
    "l2=Ridge(2)"
   ]
  },
  {
   "cell_type": "code",
   "execution_count": 77,
   "id": "74251948",
   "metadata": {},
   "outputs": [],
   "source": [
    "#create the object of cross_val_score class(for cross validation)\n",
    "#first apply for Lasso\n",
    "l2_cross=cross_val_score(l2,X,Y,cv=4) #here l2 object of Ridge and \n",
    "#X input and Y output cv means divided the no. of parts of data=4"
   ]
  },
  {
   "cell_type": "code",
   "execution_count": 78,
   "id": "77008a3d",
   "metadata": {},
   "outputs": [
    {
     "data": {
      "text/plain": [
       "array([0.71176474, 0.86474228, 0.37640664, 0.47020196])"
      ]
     },
     "execution_count": 78,
     "metadata": {},
     "output_type": "execute_result"
    }
   ],
   "source": [
    "l2_cross"
   ]
  },
  {
   "cell_type": "code",
   "execution_count": 79,
   "id": "b07176f8",
   "metadata": {},
   "outputs": [
    {
     "name": "stdout",
     "output_type": "stream",
     "text": [
      "Mean/average score for cross validation in Ridge :  0.6057789059244743\n"
     ]
    }
   ],
   "source": [
    "#find the average score for cross validation in Ridge\n",
    "m=l2_cross.mean()\n",
    "print(\"Mean/average score for cross validation in Ridge : \",m)"
   ]
  },
  {
   "cell_type": "code",
   "execution_count": null,
   "id": "7b67e547",
   "metadata": {},
   "outputs": [],
   "source": [
    "#Mean of Lasso is greater than Ridge so Select Lasso Regularization\n",
    "#in this dataset\n",
    "#mean of lasso regularization : 0.61\n",
    "#mean of Ridge regularization : 0.60\n",
    "#in this dataset automobile_data.csv, Lasso regularisation is best as \n",
    "#compared to Ridge regularisation because average means mean of  of  score\n",
    "#of lasso is greater than ridge regularisation "
   ]
  },
  {
   "cell_type": "code",
   "execution_count": 81,
   "id": "27b12ff0",
   "metadata": {},
   "outputs": [],
   "source": [
    "#Find r2-score (testing score)\n",
    "from sklearn.metrics import r2_score"
   ]
  },
  {
   "cell_type": "code",
   "execution_count": 82,
   "id": "0306a43f",
   "metadata": {},
   "outputs": [
    {
     "data": {
      "text/plain": [
       "0.7965566780397376"
      ]
     },
     "execution_count": 82,
     "metadata": {},
     "output_type": "execute_result"
    }
   ],
   "source": [
    "r2_score(Y_test,Y_pred)"
   ]
  }
 ],
 "metadata": {
  "kernelspec": {
   "display_name": "Python 3 (ipykernel)",
   "language": "python",
   "name": "python3"
  },
  "language_info": {
   "codemirror_mode": {
    "name": "ipython",
    "version": 3
   },
   "file_extension": ".py",
   "mimetype": "text/x-python",
   "name": "python",
   "nbconvert_exporter": "python",
   "pygments_lexer": "ipython3",
   "version": "3.9.12"
  }
 },
 "nbformat": 4,
 "nbformat_minor": 5
}
