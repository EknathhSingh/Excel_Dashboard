{
 "cells": [
  {
   "cell_type": "code",
   "execution_count": 1,
   "id": "abc605da",
   "metadata": {},
   "outputs": [],
   "source": [
    "#EDA : Exploratory data analysis : Data cleaning process\n",
    "#Step 1: To checl null values\n",
    "#Step 2 : To remove duplicates value\n",
    "#Step 3 :"
   ]
  },
  {
   "cell_type": "code",
   "execution_count": 2,
   "id": "6cd13684",
   "metadata": {},
   "outputs": [],
   "source": [
    "import numpy as np\n",
    "import pandas as pd\n",
    "import matplotlib.pyplot as plt\n",
    "import seaborn as sb\n",
    "import warnings\n",
    "warnings.filterwarnings('ignore')"
   ]
  },
  {
   "cell_type": "code",
   "execution_count": 3,
   "id": "6bd703cf",
   "metadata": {},
   "outputs": [],
   "source": [
    "# create a dummy dataset with the help of dictionary\n",
    "dict={'Make':['BMW','mazda','mazda','isuzu','plymouth','BMW','isuzu','BMW','honda','honda','BMW','plymouth'],\n",
    "     'fuel-type':['gas','gas','disel','disel','gas','gas','gas','disel','gas','gas','gas','disel'],\n",
    "     'width':[65.6,67.7,66.5,68,70.3,65.7,77.9,67.3,68.2,65.4,65.4,56.4],\n",
    "     'height':[54.0,78.5,np.nan,65,87,54,65,np.nan,87,67,67,78],\n",
    "     'price':[34567,78544,45678,65435,67435,67543,90000,43543,67890,65432,\n",
    "             30000,98000]}"
   ]
  },
  {
   "cell_type": "code",
   "execution_count": 4,
   "id": "40f28093",
   "metadata": {},
   "outputs": [
    {
     "data": {
      "text/html": [
       "<div>\n",
       "<style scoped>\n",
       "    .dataframe tbody tr th:only-of-type {\n",
       "        vertical-align: middle;\n",
       "    }\n",
       "\n",
       "    .dataframe tbody tr th {\n",
       "        vertical-align: top;\n",
       "    }\n",
       "\n",
       "    .dataframe thead th {\n",
       "        text-align: right;\n",
       "    }\n",
       "</style>\n",
       "<table border=\"1\" class=\"dataframe\">\n",
       "  <thead>\n",
       "    <tr style=\"text-align: right;\">\n",
       "      <th></th>\n",
       "      <th>Make</th>\n",
       "      <th>fuel-type</th>\n",
       "      <th>width</th>\n",
       "      <th>height</th>\n",
       "      <th>price</th>\n",
       "    </tr>\n",
       "  </thead>\n",
       "  <tbody>\n",
       "    <tr>\n",
       "      <th>0</th>\n",
       "      <td>BMW</td>\n",
       "      <td>gas</td>\n",
       "      <td>65.6</td>\n",
       "      <td>54.0</td>\n",
       "      <td>34567</td>\n",
       "    </tr>\n",
       "    <tr>\n",
       "      <th>1</th>\n",
       "      <td>mazda</td>\n",
       "      <td>gas</td>\n",
       "      <td>67.7</td>\n",
       "      <td>78.5</td>\n",
       "      <td>78544</td>\n",
       "    </tr>\n",
       "    <tr>\n",
       "      <th>2</th>\n",
       "      <td>mazda</td>\n",
       "      <td>disel</td>\n",
       "      <td>66.5</td>\n",
       "      <td>NaN</td>\n",
       "      <td>45678</td>\n",
       "    </tr>\n",
       "    <tr>\n",
       "      <th>3</th>\n",
       "      <td>isuzu</td>\n",
       "      <td>disel</td>\n",
       "      <td>68.0</td>\n",
       "      <td>65.0</td>\n",
       "      <td>65435</td>\n",
       "    </tr>\n",
       "    <tr>\n",
       "      <th>4</th>\n",
       "      <td>plymouth</td>\n",
       "      <td>gas</td>\n",
       "      <td>70.3</td>\n",
       "      <td>87.0</td>\n",
       "      <td>67435</td>\n",
       "    </tr>\n",
       "    <tr>\n",
       "      <th>5</th>\n",
       "      <td>BMW</td>\n",
       "      <td>gas</td>\n",
       "      <td>65.7</td>\n",
       "      <td>54.0</td>\n",
       "      <td>67543</td>\n",
       "    </tr>\n",
       "    <tr>\n",
       "      <th>6</th>\n",
       "      <td>isuzu</td>\n",
       "      <td>gas</td>\n",
       "      <td>77.9</td>\n",
       "      <td>65.0</td>\n",
       "      <td>90000</td>\n",
       "    </tr>\n",
       "    <tr>\n",
       "      <th>7</th>\n",
       "      <td>BMW</td>\n",
       "      <td>disel</td>\n",
       "      <td>67.3</td>\n",
       "      <td>NaN</td>\n",
       "      <td>43543</td>\n",
       "    </tr>\n",
       "    <tr>\n",
       "      <th>8</th>\n",
       "      <td>honda</td>\n",
       "      <td>gas</td>\n",
       "      <td>68.2</td>\n",
       "      <td>87.0</td>\n",
       "      <td>67890</td>\n",
       "    </tr>\n",
       "    <tr>\n",
       "      <th>9</th>\n",
       "      <td>honda</td>\n",
       "      <td>gas</td>\n",
       "      <td>65.4</td>\n",
       "      <td>67.0</td>\n",
       "      <td>65432</td>\n",
       "    </tr>\n",
       "    <tr>\n",
       "      <th>10</th>\n",
       "      <td>BMW</td>\n",
       "      <td>gas</td>\n",
       "      <td>65.4</td>\n",
       "      <td>67.0</td>\n",
       "      <td>30000</td>\n",
       "    </tr>\n",
       "    <tr>\n",
       "      <th>11</th>\n",
       "      <td>plymouth</td>\n",
       "      <td>disel</td>\n",
       "      <td>56.4</td>\n",
       "      <td>78.0</td>\n",
       "      <td>98000</td>\n",
       "    </tr>\n",
       "  </tbody>\n",
       "</table>\n",
       "</div>"
      ],
      "text/plain": [
       "        Make fuel-type  width  height  price\n",
       "0        BMW       gas   65.6    54.0  34567\n",
       "1      mazda       gas   67.7    78.5  78544\n",
       "2      mazda     disel   66.5     NaN  45678\n",
       "3      isuzu     disel   68.0    65.0  65435\n",
       "4   plymouth       gas   70.3    87.0  67435\n",
       "5        BMW       gas   65.7    54.0  67543\n",
       "6      isuzu       gas   77.9    65.0  90000\n",
       "7        BMW     disel   67.3     NaN  43543\n",
       "8      honda       gas   68.2    87.0  67890\n",
       "9      honda       gas   65.4    67.0  65432\n",
       "10       BMW       gas   65.4    67.0  30000\n",
       "11  plymouth     disel   56.4    78.0  98000"
      ]
     },
     "execution_count": 4,
     "metadata": {},
     "output_type": "execute_result"
    }
   ],
   "source": [
    "#convert dict into dataframe\n",
    "df=pd.DataFrame(dict)\n",
    "df"
   ]
  },
  {
   "cell_type": "code",
   "execution_count": 5,
   "id": "b2f37c0b",
   "metadata": {},
   "outputs": [
    {
     "data": {
      "text/plain": [
       "Make         0\n",
       "fuel-type    0\n",
       "width        0\n",
       "height       2\n",
       "price        0\n",
       "dtype: int64"
      ]
     },
     "execution_count": 5,
     "metadata": {},
     "output_type": "execute_result"
    }
   ],
   "source": [
    "#EDA process\n",
    "# To check null values in given dataset\n",
    "df.isnull().sum()"
   ]
  },
  {
   "cell_type": "code",
   "execution_count": 6,
   "id": "2605191a",
   "metadata": {},
   "outputs": [
    {
     "data": {
      "image/png": "[encoded data removed]",
      "text/plain": [
       "<Figure size 640x480 with 2 Axes>"
      ]
     },
     "metadata": {},
     "output_type": "display_data"
    }
   ],
   "source": [
    "#vizuzlisation null value\n",
    "sb.heatmap(df.isnull())\n",
    "plt.show()"
   ]
  },
  {
   "cell_type": "code",
   "execution_count": 7,
   "id": "37ab0760",
   "metadata": {},
   "outputs": [
    {
     "data": {
      "text/plain": [
       "Make          object\n",
       "fuel-type     object\n",
       "width        float64\n",
       "height       float64\n",
       "price          int64\n",
       "dtype: object"
      ]
     },
     "execution_count": 7,
     "metadata": {},
     "output_type": "execute_result"
    }
   ],
   "source": [
    "df.dtypes"
   ]
  },
  {
   "cell_type": "code",
   "execution_count": 8,
   "id": "18b0b21d",
   "metadata": {},
   "outputs": [
    {
     "data": {
      "text/html": [
       "<div>\n",
       "<style scoped>\n",
       "    .dataframe tbody tr th:only-of-type {\n",
       "        vertical-align: middle;\n",
       "    }\n",
       "\n",
       "    .dataframe tbody tr th {\n",
       "        vertical-align: top;\n",
       "    }\n",
       "\n",
       "    .dataframe thead th {\n",
       "        text-align: right;\n",
       "    }\n",
       "</style>\n",
       "<table border=\"1\" class=\"dataframe\">\n",
       "  <thead>\n",
       "    <tr style=\"text-align: right;\">\n",
       "      <th></th>\n",
       "      <th>Make</th>\n",
       "      <th>fuel-type</th>\n",
       "      <th>width</th>\n",
       "      <th>height</th>\n",
       "      <th>price</th>\n",
       "    </tr>\n",
       "  </thead>\n",
       "  <tbody>\n",
       "    <tr>\n",
       "      <th>0</th>\n",
       "      <td>BMW</td>\n",
       "      <td>gas</td>\n",
       "      <td>65.6</td>\n",
       "      <td>54.0</td>\n",
       "      <td>34567</td>\n",
       "    </tr>\n",
       "    <tr>\n",
       "      <th>1</th>\n",
       "      <td>mazda</td>\n",
       "      <td>gas</td>\n",
       "      <td>67.7</td>\n",
       "      <td>78.5</td>\n",
       "      <td>78544</td>\n",
       "    </tr>\n",
       "    <tr>\n",
       "      <th>2</th>\n",
       "      <td>mazda</td>\n",
       "      <td>disel</td>\n",
       "      <td>66.5</td>\n",
       "      <td>NaN</td>\n",
       "      <td>45678</td>\n",
       "    </tr>\n",
       "    <tr>\n",
       "      <th>3</th>\n",
       "      <td>isuzu</td>\n",
       "      <td>disel</td>\n",
       "      <td>68.0</td>\n",
       "      <td>65.0</td>\n",
       "      <td>65435</td>\n",
       "    </tr>\n",
       "    <tr>\n",
       "      <th>4</th>\n",
       "      <td>plymouth</td>\n",
       "      <td>gas</td>\n",
       "      <td>70.3</td>\n",
       "      <td>87.0</td>\n",
       "      <td>67435</td>\n",
       "    </tr>\n",
       "    <tr>\n",
       "      <th>5</th>\n",
       "      <td>BMW</td>\n",
       "      <td>gas</td>\n",
       "      <td>65.7</td>\n",
       "      <td>54.0</td>\n",
       "      <td>67543</td>\n",
       "    </tr>\n",
       "    <tr>\n",
       "      <th>6</th>\n",
       "      <td>isuzu</td>\n",
       "      <td>gas</td>\n",
       "      <td>77.9</td>\n",
       "      <td>65.0</td>\n",
       "      <td>90000</td>\n",
       "    </tr>\n",
       "    <tr>\n",
       "      <th>7</th>\n",
       "      <td>BMW</td>\n",
       "      <td>disel</td>\n",
       "      <td>67.3</td>\n",
       "      <td>NaN</td>\n",
       "      <td>43543</td>\n",
       "    </tr>\n",
       "    <tr>\n",
       "      <th>8</th>\n",
       "      <td>honda</td>\n",
       "      <td>gas</td>\n",
       "      <td>68.2</td>\n",
       "      <td>87.0</td>\n",
       "      <td>67890</td>\n",
       "    </tr>\n",
       "    <tr>\n",
       "      <th>9</th>\n",
       "      <td>honda</td>\n",
       "      <td>gas</td>\n",
       "      <td>65.4</td>\n",
       "      <td>67.0</td>\n",
       "      <td>65432</td>\n",
       "    </tr>\n",
       "    <tr>\n",
       "      <th>10</th>\n",
       "      <td>BMW</td>\n",
       "      <td>gas</td>\n",
       "      <td>65.4</td>\n",
       "      <td>67.0</td>\n",
       "      <td>30000</td>\n",
       "    </tr>\n",
       "    <tr>\n",
       "      <th>11</th>\n",
       "      <td>plymouth</td>\n",
       "      <td>disel</td>\n",
       "      <td>56.4</td>\n",
       "      <td>78.0</td>\n",
       "      <td>98000</td>\n",
       "    </tr>\n",
       "  </tbody>\n",
       "</table>\n",
       "</div>"
      ],
      "text/plain": [
       "        Make fuel-type  width  height  price\n",
       "0        BMW       gas   65.6    54.0  34567\n",
       "1      mazda       gas   67.7    78.5  78544\n",
       "2      mazda     disel   66.5     NaN  45678\n",
       "3      isuzu     disel   68.0    65.0  65435\n",
       "4   plymouth       gas   70.3    87.0  67435\n",
       "5        BMW       gas   65.7    54.0  67543\n",
       "6      isuzu       gas   77.9    65.0  90000\n",
       "7        BMW     disel   67.3     NaN  43543\n",
       "8      honda       gas   68.2    87.0  67890\n",
       "9      honda       gas   65.4    67.0  65432\n",
       "10       BMW       gas   65.4    67.0  30000\n",
       "11  plymouth     disel   56.4    78.0  98000"
      ]
     },
     "execution_count": 8,
     "metadata": {},
     "output_type": "execute_result"
    }
   ],
   "source": [
    "df"
   ]
  },
  {
   "cell_type": "code",
   "execution_count": 9,
   "id": "e4f1e8b1",
   "metadata": {},
   "outputs": [
    {
     "data": {
      "text/plain": [
       "(12, 5)"
      ]
     },
     "execution_count": 9,
     "metadata": {},
     "output_type": "execute_result"
    }
   ],
   "source": [
    "df.shape"
   ]
  },
  {
   "cell_type": "code",
   "execution_count": 10,
   "id": "7221f96f",
   "metadata": {},
   "outputs": [
    {
     "name": "stdout",
     "output_type": "stream",
     "text": [
      "70.25\n"
     ]
    }
   ],
   "source": [
    "#fill null values with mean of height in height column\n",
    "m=df[\"height\"].mean()\n",
    "print(m)\n",
    "\n",
    "df[\"height\"].fillna(m,inplace=True)"
   ]
  },
  {
   "cell_type": "code",
   "execution_count": 11,
   "id": "c3738a24",
   "metadata": {},
   "outputs": [
    {
     "data": {
      "text/plain": [
       "Make         0\n",
       "fuel-type    0\n",
       "width        0\n",
       "height       0\n",
       "price        0\n",
       "dtype: int64"
      ]
     },
     "execution_count": 11,
     "metadata": {},
     "output_type": "execute_result"
    }
   ],
   "source": [
    "#To check null values\n",
    "df.isnull().sum()"
   ]
  },
  {
   "cell_type": "code",
   "execution_count": 12,
   "id": "eb143df9",
   "metadata": {},
   "outputs": [
    {
     "data": {
      "image/png": "[encoded data removed]",
      "text/plain": [
       "<Figure size 640x480 with 2 Axes>"
      ]
     },
     "metadata": {},
     "output_type": "display_data"
    }
   ],
   "source": [
    "#visualtion null values\n",
    "sb.heatmap(df.isnull())\n",
    "plt.show()"
   ]
  },
  {
   "cell_type": "code",
   "execution_count": 13,
   "id": "fad5c15f",
   "metadata": {},
   "outputs": [],
   "source": [
    "#to add new records in existing dataframe df\n",
    "dict={'Make':['plymouth','honda'],'fuel-type':['disel','gas'],'width':[56.4,'?'],'height':[78.0,56],\n",
    "     'price':[98000,56000]}\n",
    "#convert dict into new dataframe\n",
    "df1=pd.DataFrame(dict)\n",
    "\n"
   ]
  },
  {
   "cell_type": "code",
   "execution_count": 14,
   "id": "3a1a32eb",
   "metadata": {},
   "outputs": [
    {
     "data": {
      "text/html": [
       "<div>\n",
       "<style scoped>\n",
       "    .dataframe tbody tr th:only-of-type {\n",
       "        vertical-align: middle;\n",
       "    }\n",
       "\n",
       "    .dataframe tbody tr th {\n",
       "        vertical-align: top;\n",
       "    }\n",
       "\n",
       "    .dataframe thead th {\n",
       "        text-align: right;\n",
       "    }\n",
       "</style>\n",
       "<table border=\"1\" class=\"dataframe\">\n",
       "  <thead>\n",
       "    <tr style=\"text-align: right;\">\n",
       "      <th></th>\n",
       "      <th>Make</th>\n",
       "      <th>fuel-type</th>\n",
       "      <th>width</th>\n",
       "      <th>height</th>\n",
       "      <th>price</th>\n",
       "    </tr>\n",
       "  </thead>\n",
       "  <tbody>\n",
       "    <tr>\n",
       "      <th>0</th>\n",
       "      <td>plymouth</td>\n",
       "      <td>disel</td>\n",
       "      <td>56.4</td>\n",
       "      <td>78.0</td>\n",
       "      <td>98000</td>\n",
       "    </tr>\n",
       "    <tr>\n",
       "      <th>1</th>\n",
       "      <td>honda</td>\n",
       "      <td>gas</td>\n",
       "      <td>?</td>\n",
       "      <td>56.0</td>\n",
       "      <td>56000</td>\n",
       "    </tr>\n",
       "  </tbody>\n",
       "</table>\n",
       "</div>"
      ],
      "text/plain": [
       "       Make fuel-type width  height  price\n",
       "0  plymouth     disel  56.4    78.0  98000\n",
       "1     honda       gas     ?    56.0  56000"
      ]
     },
     "execution_count": 14,
     "metadata": {},
     "output_type": "execute_result"
    }
   ],
   "source": [
    "df1"
   ]
  },
  {
   "cell_type": "code",
   "execution_count": 15,
   "id": "d1a8af06",
   "metadata": {},
   "outputs": [],
   "source": [
    "df=pd.concat([df,df1],ignore_index=True)"
   ]
  },
  {
   "cell_type": "code",
   "execution_count": 16,
   "id": "62f8d55a",
   "metadata": {},
   "outputs": [
    {
     "data": {
      "text/html": [
       "<div>\n",
       "<style scoped>\n",
       "    .dataframe tbody tr th:only-of-type {\n",
       "        vertical-align: middle;\n",
       "    }\n",
       "\n",
       "    .dataframe tbody tr th {\n",
       "        vertical-align: top;\n",
       "    }\n",
       "\n",
       "    .dataframe thead th {\n",
       "        text-align: right;\n",
       "    }\n",
       "</style>\n",
       "<table border=\"1\" class=\"dataframe\">\n",
       "  <thead>\n",
       "    <tr style=\"text-align: right;\">\n",
       "      <th></th>\n",
       "      <th>Make</th>\n",
       "      <th>fuel-type</th>\n",
       "      <th>width</th>\n",
       "      <th>height</th>\n",
       "      <th>price</th>\n",
       "    </tr>\n",
       "  </thead>\n",
       "  <tbody>\n",
       "    <tr>\n",
       "      <th>0</th>\n",
       "      <td>BMW</td>\n",
       "      <td>gas</td>\n",
       "      <td>65.6</td>\n",
       "      <td>54.00</td>\n",
       "      <td>34567</td>\n",
       "    </tr>\n",
       "    <tr>\n",
       "      <th>1</th>\n",
       "      <td>mazda</td>\n",
       "      <td>gas</td>\n",
       "      <td>67.7</td>\n",
       "      <td>78.50</td>\n",
       "      <td>78544</td>\n",
       "    </tr>\n",
       "    <tr>\n",
       "      <th>2</th>\n",
       "      <td>mazda</td>\n",
       "      <td>disel</td>\n",
       "      <td>66.5</td>\n",
       "      <td>70.25</td>\n",
       "      <td>45678</td>\n",
       "    </tr>\n",
       "    <tr>\n",
       "      <th>3</th>\n",
       "      <td>isuzu</td>\n",
       "      <td>disel</td>\n",
       "      <td>68.0</td>\n",
       "      <td>65.00</td>\n",
       "      <td>65435</td>\n",
       "    </tr>\n",
       "    <tr>\n",
       "      <th>4</th>\n",
       "      <td>plymouth</td>\n",
       "      <td>gas</td>\n",
       "      <td>70.3</td>\n",
       "      <td>87.00</td>\n",
       "      <td>67435</td>\n",
       "    </tr>\n",
       "    <tr>\n",
       "      <th>5</th>\n",
       "      <td>BMW</td>\n",
       "      <td>gas</td>\n",
       "      <td>65.7</td>\n",
       "      <td>54.00</td>\n",
       "      <td>67543</td>\n",
       "    </tr>\n",
       "    <tr>\n",
       "      <th>6</th>\n",
       "      <td>isuzu</td>\n",
       "      <td>gas</td>\n",
       "      <td>77.9</td>\n",
       "      <td>65.00</td>\n",
       "      <td>90000</td>\n",
       "    </tr>\n",
       "    <tr>\n",
       "      <th>7</th>\n",
       "      <td>BMW</td>\n",
       "      <td>disel</td>\n",
       "      <td>67.3</td>\n",
       "      <td>70.25</td>\n",
       "      <td>43543</td>\n",
       "    </tr>\n",
       "    <tr>\n",
       "      <th>8</th>\n",
       "      <td>honda</td>\n",
       "      <td>gas</td>\n",
       "      <td>68.2</td>\n",
       "      <td>87.00</td>\n",
       "      <td>67890</td>\n",
       "    </tr>\n",
       "    <tr>\n",
       "      <th>9</th>\n",
       "      <td>honda</td>\n",
       "      <td>gas</td>\n",
       "      <td>65.4</td>\n",
       "      <td>67.00</td>\n",
       "      <td>65432</td>\n",
       "    </tr>\n",
       "    <tr>\n",
       "      <th>10</th>\n",
       "      <td>BMW</td>\n",
       "      <td>gas</td>\n",
       "      <td>65.4</td>\n",
       "      <td>67.00</td>\n",
       "      <td>30000</td>\n",
       "    </tr>\n",
       "    <tr>\n",
       "      <th>11</th>\n",
       "      <td>plymouth</td>\n",
       "      <td>disel</td>\n",
       "      <td>56.4</td>\n",
       "      <td>78.00</td>\n",
       "      <td>98000</td>\n",
       "    </tr>\n",
       "    <tr>\n",
       "      <th>12</th>\n",
       "      <td>plymouth</td>\n",
       "      <td>disel</td>\n",
       "      <td>56.4</td>\n",
       "      <td>78.00</td>\n",
       "      <td>98000</td>\n",
       "    </tr>\n",
       "    <tr>\n",
       "      <th>13</th>\n",
       "      <td>honda</td>\n",
       "      <td>gas</td>\n",
       "      <td>?</td>\n",
       "      <td>56.00</td>\n",
       "      <td>56000</td>\n",
       "    </tr>\n",
       "  </tbody>\n",
       "</table>\n",
       "</div>"
      ],
      "text/plain": [
       "        Make fuel-type width  height  price\n",
       "0        BMW       gas  65.6   54.00  34567\n",
       "1      mazda       gas  67.7   78.50  78544\n",
       "2      mazda     disel  66.5   70.25  45678\n",
       "3      isuzu     disel  68.0   65.00  65435\n",
       "4   plymouth       gas  70.3   87.00  67435\n",
       "5        BMW       gas  65.7   54.00  67543\n",
       "6      isuzu       gas  77.9   65.00  90000\n",
       "7        BMW     disel  67.3   70.25  43543\n",
       "8      honda       gas  68.2   87.00  67890\n",
       "9      honda       gas  65.4   67.00  65432\n",
       "10       BMW       gas  65.4   67.00  30000\n",
       "11  plymouth     disel  56.4   78.00  98000\n",
       "12  plymouth     disel  56.4   78.00  98000\n",
       "13     honda       gas     ?   56.00  56000"
      ]
     },
     "execution_count": 16,
     "metadata": {},
     "output_type": "execute_result"
    }
   ],
   "source": [
    "df"
   ]
  },
  {
   "cell_type": "code",
   "execution_count": 17,
   "id": "12d1fe77",
   "metadata": {},
   "outputs": [
    {
     "data": {
      "text/plain": [
       "pandas.core.frame.DataFrame"
      ]
     },
     "execution_count": 17,
     "metadata": {},
     "output_type": "execute_result"
    }
   ],
   "source": [
    "type(df)"
   ]
  },
  {
   "cell_type": "code",
   "execution_count": 18,
   "id": "f3123cbb",
   "metadata": {},
   "outputs": [
    {
     "data": {
      "text/plain": [
       "pandas.core.frame.DataFrame"
      ]
     },
     "execution_count": 18,
     "metadata": {},
     "output_type": "execute_result"
    }
   ],
   "source": [
    "type(df1)"
   ]
  },
  {
   "cell_type": "code",
   "execution_count": 19,
   "id": "04df9fb9",
   "metadata": {},
   "outputs": [
    {
     "data": {
      "text/plain": [
       "Make         0\n",
       "fuel-type    0\n",
       "width        0\n",
       "height       0\n",
       "price        0\n",
       "dtype: int64"
      ]
     },
     "execution_count": 19,
     "metadata": {},
     "output_type": "execute_result"
    }
   ],
   "source": [
    "#To check null values\n",
    "df.isnull().sum()"
   ]
  },
  {
   "cell_type": "code",
   "execution_count": 20,
   "id": "c27dc0b0",
   "metadata": {},
   "outputs": [
    {
     "data": {
      "text/plain": [
       "Make          object\n",
       "fuel-type     object\n",
       "width         object\n",
       "height       float64\n",
       "price          int64\n",
       "dtype: object"
      ]
     },
     "execution_count": 20,
     "metadata": {},
     "output_type": "execute_result"
    }
   ],
   "source": [
    "#to check datatype\n",
    "df.dtypes"
   ]
  },
  {
   "cell_type": "code",
   "execution_count": 21,
   "id": "de040d12",
   "metadata": {},
   "outputs": [
    {
     "data": {
      "text/plain": [
       "array([65.6, 67.7, 66.5, 68.0, 70.3, 65.7, 77.9, 67.3, 68.2, 65.4, 56.4,\n",
       "       '?'], dtype=object)"
      ]
     },
     "execution_count": 21,
     "metadata": {},
     "output_type": "execute_result"
    }
   ],
   "source": [
    "df['width'].unique()"
   ]
  },
  {
   "cell_type": "code",
   "execution_count": 22,
   "id": "db24a597",
   "metadata": {},
   "outputs": [],
   "source": [
    "#replace '?' with null values in width column permanent\n",
    "df['width'].replace('?',np.nan,inplace=True)"
   ]
  },
  {
   "cell_type": "code",
   "execution_count": 23,
   "id": "bfcbc817",
   "metadata": {},
   "outputs": [
    {
     "data": {
      "text/plain": [
       "Make         0\n",
       "fuel-type    0\n",
       "width        1\n",
       "height       0\n",
       "price        0\n",
       "dtype: int64"
      ]
     },
     "execution_count": 23,
     "metadata": {},
     "output_type": "execute_result"
    }
   ],
   "source": [
    "df.isnull().sum()"
   ]
  },
  {
   "cell_type": "code",
   "execution_count": 24,
   "id": "917156d0",
   "metadata": {},
   "outputs": [
    {
     "data": {
      "image/png": "[encoded data removed]",
      "text/plain": [
       "<Figure size 640x480 with 2 Axes>"
      ]
     },
     "metadata": {},
     "output_type": "display_data"
    }
   ],
   "source": [
    "sb.heatmap(df.isnull())\n",
    "plt.show()"
   ]
  },
  {
   "cell_type": "code",
   "execution_count": 25,
   "id": "52c2c1b4",
   "metadata": {},
   "outputs": [
    {
     "data": {
      "text/plain": [
       "Make          object\n",
       "fuel-type     object\n",
       "width        float64\n",
       "height       float64\n",
       "price          int64\n",
       "dtype: object"
      ]
     },
     "execution_count": 25,
     "metadata": {},
     "output_type": "execute_result"
    }
   ],
   "source": [
    "df.dtypes"
   ]
  },
  {
   "cell_type": "code",
   "execution_count": 26,
   "id": "d3510bc6",
   "metadata": {},
   "outputs": [
    {
     "name": "stdout",
     "output_type": "stream",
     "text": [
      "66.21538461538461\n"
     ]
    }
   ],
   "source": [
    "m=df[\"width\"].mean()\n",
    "print(m)\n",
    "\n",
    "df[\"width\"].fillna(m,inplace=True)"
   ]
  },
  {
   "cell_type": "code",
   "execution_count": 27,
   "id": "cd1af895",
   "metadata": {},
   "outputs": [
    {
     "data": {
      "text/plain": [
       "Make         0\n",
       "fuel-type    0\n",
       "width        0\n",
       "height       0\n",
       "price        0\n",
       "dtype: int64"
      ]
     },
     "execution_count": 27,
     "metadata": {},
     "output_type": "execute_result"
    }
   ],
   "source": [
    "df.isnull().sum()"
   ]
  },
  {
   "cell_type": "code",
   "execution_count": 28,
   "id": "8e0d9c08",
   "metadata": {},
   "outputs": [
    {
     "data": {
      "text/plain": [
       "1"
      ]
     },
     "execution_count": 28,
     "metadata": {},
     "output_type": "execute_result"
    }
   ],
   "source": [
    "#Step 2 of EDA\n",
    "#to check duplicate rows\n",
    "df.duplicated().sum()"
   ]
  },
  {
   "cell_type": "code",
   "execution_count": 29,
   "id": "28e21383",
   "metadata": {},
   "outputs": [
    {
     "data": {
      "text/html": [
       "<div>\n",
       "<style scoped>\n",
       "    .dataframe tbody tr th:only-of-type {\n",
       "        vertical-align: middle;\n",
       "    }\n",
       "\n",
       "    .dataframe tbody tr th {\n",
       "        vertical-align: top;\n",
       "    }\n",
       "\n",
       "    .dataframe thead th {\n",
       "        text-align: right;\n",
       "    }\n",
       "</style>\n",
       "<table border=\"1\" class=\"dataframe\">\n",
       "  <thead>\n",
       "    <tr style=\"text-align: right;\">\n",
       "      <th></th>\n",
       "      <th>Make</th>\n",
       "      <th>fuel-type</th>\n",
       "      <th>width</th>\n",
       "      <th>height</th>\n",
       "      <th>price</th>\n",
       "    </tr>\n",
       "  </thead>\n",
       "  <tbody>\n",
       "    <tr>\n",
       "      <th>12</th>\n",
       "      <td>plymouth</td>\n",
       "      <td>disel</td>\n",
       "      <td>56.4</td>\n",
       "      <td>78.0</td>\n",
       "      <td>98000</td>\n",
       "    </tr>\n",
       "  </tbody>\n",
       "</table>\n",
       "</div>"
      ],
      "text/plain": [
       "        Make fuel-type  width  height  price\n",
       "12  plymouth     disel   56.4    78.0  98000"
      ]
     },
     "execution_count": 29,
     "metadata": {},
     "output_type": "execute_result"
    }
   ],
   "source": [
    "#To extract details of duplicate rows\n",
    "df[df.duplicated()]"
   ]
  },
  {
   "cell_type": "code",
   "execution_count": 30,
   "id": "273291b2",
   "metadata": {},
   "outputs": [
    {
     "data": {
      "text/html": [
       "<div>\n",
       "<style scoped>\n",
       "    .dataframe tbody tr th:only-of-type {\n",
       "        vertical-align: middle;\n",
       "    }\n",
       "\n",
       "    .dataframe tbody tr th {\n",
       "        vertical-align: top;\n",
       "    }\n",
       "\n",
       "    .dataframe thead th {\n",
       "        text-align: right;\n",
       "    }\n",
       "</style>\n",
       "<table border=\"1\" class=\"dataframe\">\n",
       "  <thead>\n",
       "    <tr style=\"text-align: right;\">\n",
       "      <th></th>\n",
       "      <th>Make</th>\n",
       "      <th>fuel-type</th>\n",
       "      <th>width</th>\n",
       "      <th>height</th>\n",
       "      <th>price</th>\n",
       "    </tr>\n",
       "  </thead>\n",
       "  <tbody>\n",
       "    <tr>\n",
       "      <th>0</th>\n",
       "      <td>BMW</td>\n",
       "      <td>gas</td>\n",
       "      <td>65.600000</td>\n",
       "      <td>54.00</td>\n",
       "      <td>34567</td>\n",
       "    </tr>\n",
       "    <tr>\n",
       "      <th>1</th>\n",
       "      <td>mazda</td>\n",
       "      <td>gas</td>\n",
       "      <td>67.700000</td>\n",
       "      <td>78.50</td>\n",
       "      <td>78544</td>\n",
       "    </tr>\n",
       "    <tr>\n",
       "      <th>2</th>\n",
       "      <td>mazda</td>\n",
       "      <td>disel</td>\n",
       "      <td>66.500000</td>\n",
       "      <td>70.25</td>\n",
       "      <td>45678</td>\n",
       "    </tr>\n",
       "    <tr>\n",
       "      <th>3</th>\n",
       "      <td>isuzu</td>\n",
       "      <td>disel</td>\n",
       "      <td>68.000000</td>\n",
       "      <td>65.00</td>\n",
       "      <td>65435</td>\n",
       "    </tr>\n",
       "    <tr>\n",
       "      <th>4</th>\n",
       "      <td>plymouth</td>\n",
       "      <td>gas</td>\n",
       "      <td>70.300000</td>\n",
       "      <td>87.00</td>\n",
       "      <td>67435</td>\n",
       "    </tr>\n",
       "    <tr>\n",
       "      <th>5</th>\n",
       "      <td>BMW</td>\n",
       "      <td>gas</td>\n",
       "      <td>65.700000</td>\n",
       "      <td>54.00</td>\n",
       "      <td>67543</td>\n",
       "    </tr>\n",
       "    <tr>\n",
       "      <th>6</th>\n",
       "      <td>isuzu</td>\n",
       "      <td>gas</td>\n",
       "      <td>77.900000</td>\n",
       "      <td>65.00</td>\n",
       "      <td>90000</td>\n",
       "    </tr>\n",
       "    <tr>\n",
       "      <th>7</th>\n",
       "      <td>BMW</td>\n",
       "      <td>disel</td>\n",
       "      <td>67.300000</td>\n",
       "      <td>70.25</td>\n",
       "      <td>43543</td>\n",
       "    </tr>\n",
       "    <tr>\n",
       "      <th>8</th>\n",
       "      <td>honda</td>\n",
       "      <td>gas</td>\n",
       "      <td>68.200000</td>\n",
       "      <td>87.00</td>\n",
       "      <td>67890</td>\n",
       "    </tr>\n",
       "    <tr>\n",
       "      <th>9</th>\n",
       "      <td>honda</td>\n",
       "      <td>gas</td>\n",
       "      <td>65.400000</td>\n",
       "      <td>67.00</td>\n",
       "      <td>65432</td>\n",
       "    </tr>\n",
       "    <tr>\n",
       "      <th>10</th>\n",
       "      <td>BMW</td>\n",
       "      <td>gas</td>\n",
       "      <td>65.400000</td>\n",
       "      <td>67.00</td>\n",
       "      <td>30000</td>\n",
       "    </tr>\n",
       "    <tr>\n",
       "      <th>11</th>\n",
       "      <td>plymouth</td>\n",
       "      <td>disel</td>\n",
       "      <td>56.400000</td>\n",
       "      <td>78.00</td>\n",
       "      <td>98000</td>\n",
       "    </tr>\n",
       "    <tr>\n",
       "      <th>12</th>\n",
       "      <td>plymouth</td>\n",
       "      <td>disel</td>\n",
       "      <td>56.400000</td>\n",
       "      <td>78.00</td>\n",
       "      <td>98000</td>\n",
       "    </tr>\n",
       "    <tr>\n",
       "      <th>13</th>\n",
       "      <td>honda</td>\n",
       "      <td>gas</td>\n",
       "      <td>66.215385</td>\n",
       "      <td>56.00</td>\n",
       "      <td>56000</td>\n",
       "    </tr>\n",
       "  </tbody>\n",
       "</table>\n",
       "</div>"
      ],
      "text/plain": [
       "        Make fuel-type      width  height  price\n",
       "0        BMW       gas  65.600000   54.00  34567\n",
       "1      mazda       gas  67.700000   78.50  78544\n",
       "2      mazda     disel  66.500000   70.25  45678\n",
       "3      isuzu     disel  68.000000   65.00  65435\n",
       "4   plymouth       gas  70.300000   87.00  67435\n",
       "5        BMW       gas  65.700000   54.00  67543\n",
       "6      isuzu       gas  77.900000   65.00  90000\n",
       "7        BMW     disel  67.300000   70.25  43543\n",
       "8      honda       gas  68.200000   87.00  67890\n",
       "9      honda       gas  65.400000   67.00  65432\n",
       "10       BMW       gas  65.400000   67.00  30000\n",
       "11  plymouth     disel  56.400000   78.00  98000\n",
       "12  plymouth     disel  56.400000   78.00  98000\n",
       "13     honda       gas  66.215385   56.00  56000"
      ]
     },
     "execution_count": 30,
     "metadata": {},
     "output_type": "execute_result"
    }
   ],
   "source": [
    "df\n"
   ]
  },
  {
   "cell_type": "code",
   "execution_count": 31,
   "id": "a87deb8b",
   "metadata": {},
   "outputs": [],
   "source": [
    "# to remove duplicates rows permanently\n",
    "df.drop_duplicates(inplace=True)"
   ]
  },
  {
   "cell_type": "code",
   "execution_count": 32,
   "id": "8d5cb436",
   "metadata": {},
   "outputs": [
    {
     "data": {
      "text/plain": [
       "0"
      ]
     },
     "execution_count": 32,
     "metadata": {},
     "output_type": "execute_result"
    }
   ],
   "source": [
    "#to check duplicate rows\n",
    "df.duplicated().sum()"
   ]
  },
  {
   "cell_type": "code",
   "execution_count": 33,
   "id": "22617a17",
   "metadata": {},
   "outputs": [],
   "source": [
    "# Step 3 of EDA\n",
    "#Handling object type data\n",
    "#Object type data means string type data means to hold alphanumeric values means alphabets\n",
    "#number and any special characters\n",
    "#But machine understand only numeric type data(means can be int or float type) But\n",
    "#machine does not understand object type data\n",
    "#now we have to converts object type data into numeric data\n",
    "\n",
    "#use inbuilt class LabelEncoder or OneHotEncoding method\n"
   ]
  },
  {
   "cell_type": "code",
   "execution_count": 34,
   "id": "ddc9cb77",
   "metadata": {},
   "outputs": [
    {
     "data": {
      "text/html": [
       "<div>\n",
       "<style scoped>\n",
       "    .dataframe tbody tr th:only-of-type {\n",
       "        vertical-align: middle;\n",
       "    }\n",
       "\n",
       "    .dataframe tbody tr th {\n",
       "        vertical-align: top;\n",
       "    }\n",
       "\n",
       "    .dataframe thead th {\n",
       "        text-align: right;\n",
       "    }\n",
       "</style>\n",
       "<table border=\"1\" class=\"dataframe\">\n",
       "  <thead>\n",
       "    <tr style=\"text-align: right;\">\n",
       "      <th></th>\n",
       "      <th>Make</th>\n",
       "    </tr>\n",
       "  </thead>\n",
       "  <tbody>\n",
       "    <tr>\n",
       "      <th>0</th>\n",
       "      <td>BMW</td>\n",
       "    </tr>\n",
       "    <tr>\n",
       "      <th>1</th>\n",
       "      <td>mazda</td>\n",
       "    </tr>\n",
       "    <tr>\n",
       "      <th>2</th>\n",
       "      <td>mazda</td>\n",
       "    </tr>\n",
       "    <tr>\n",
       "      <th>3</th>\n",
       "      <td>isuzu</td>\n",
       "    </tr>\n",
       "    <tr>\n",
       "      <th>4</th>\n",
       "      <td>plymouth</td>\n",
       "    </tr>\n",
       "    <tr>\n",
       "      <th>5</th>\n",
       "      <td>BMW</td>\n",
       "    </tr>\n",
       "    <tr>\n",
       "      <th>6</th>\n",
       "      <td>isuzu</td>\n",
       "    </tr>\n",
       "    <tr>\n",
       "      <th>7</th>\n",
       "      <td>BMW</td>\n",
       "    </tr>\n",
       "    <tr>\n",
       "      <th>8</th>\n",
       "      <td>honda</td>\n",
       "    </tr>\n",
       "    <tr>\n",
       "      <th>9</th>\n",
       "      <td>honda</td>\n",
       "    </tr>\n",
       "    <tr>\n",
       "      <th>10</th>\n",
       "      <td>BMW</td>\n",
       "    </tr>\n",
       "    <tr>\n",
       "      <th>11</th>\n",
       "      <td>plymouth</td>\n",
       "    </tr>\n",
       "    <tr>\n",
       "      <th>13</th>\n",
       "      <td>honda</td>\n",
       "    </tr>\n",
       "  </tbody>\n",
       "</table>\n",
       "</div>"
      ],
      "text/plain": [
       "        Make\n",
       "0        BMW\n",
       "1      mazda\n",
       "2      mazda\n",
       "3      isuzu\n",
       "4   plymouth\n",
       "5        BMW\n",
       "6      isuzu\n",
       "7        BMW\n",
       "8      honda\n",
       "9      honda\n",
       "10       BMW\n",
       "11  plymouth\n",
       "13     honda"
      ]
     },
     "execution_count": 34,
     "metadata": {},
     "output_type": "execute_result"
    }
   ],
   "source": [
    "df[['Make']]"
   ]
  },
  {
   "cell_type": "code",
   "execution_count": 35,
   "id": "324cd18e",
   "metadata": {},
   "outputs": [
    {
     "data": {
      "text/plain": [
       "Make          object\n",
       "fuel-type     object\n",
       "width        float64\n",
       "height       float64\n",
       "price          int64\n",
       "dtype: object"
      ]
     },
     "execution_count": 35,
     "metadata": {},
     "output_type": "execute_result"
    }
   ],
   "source": [
    "df.dtypes"
   ]
  },
  {
   "cell_type": "code",
   "execution_count": 36,
   "id": "2d03ec21",
   "metadata": {},
   "outputs": [
    {
     "data": {
      "text/plain": [
       "array(['BMW', 'mazda', 'isuzu', 'plymouth', 'honda'], dtype=object)"
      ]
     },
     "execution_count": 36,
     "metadata": {},
     "output_type": "execute_result"
    }
   ],
   "source": [
    "df[\"Make\"].unique()"
   ]
  },
  {
   "cell_type": "code",
   "execution_count": 37,
   "id": "af678bf8",
   "metadata": {},
   "outputs": [
    {
     "data": {
      "text/plain": [
       "array(['gas', 'disel'], dtype=object)"
      ]
     },
     "execution_count": 37,
     "metadata": {},
     "output_type": "execute_result"
    }
   ],
   "source": [
    "df[\"fuel-type\"].unique()"
   ]
  },
  {
   "cell_type": "code",
   "execution_count": 38,
   "id": "9af607c8",
   "metadata": {},
   "outputs": [],
   "source": [
    "#use LabelEncoder inbuilt class\n",
    "#class is the collection of function\n",
    "#package means collection of class\n",
    "#sklearn inbuilt framework of machine leearning (scikit learn)\n",
    "#package means collection of classes\n",
    "#sklearn : inbuilt package of python open source and free of cost\n",
    "#!pip3 install sklearn to install pip this is command"
   ]
  },
  {
   "cell_type": "code",
   "execution_count": 39,
   "id": "079abc8f",
   "metadata": {},
   "outputs": [],
   "source": [
    "import sklearn"
   ]
  },
  {
   "cell_type": "code",
   "execution_count": 40,
   "id": "a9b8e701",
   "metadata": {},
   "outputs": [],
   "source": [
    "from sklearn.preprocessing import LabelEncoder"
   ]
  },
  {
   "cell_type": "code",
   "execution_count": 41,
   "id": "23719754",
   "metadata": {},
   "outputs": [],
   "source": [
    "#create object of LabelEncoder vlass\n",
    "le=LabelEncoder() #here le is userdefined object of LabelEncoder class"
   ]
  },
  {
   "cell_type": "code",
   "execution_count": 42,
   "id": "d6aca026",
   "metadata": {},
   "outputs": [],
   "source": [
    "#fit_transform is a inbuilt function\n",
    "df[\"Make\"]=le.fit_transform(df[\"Make\"])"
   ]
  },
  {
   "cell_type": "code",
   "execution_count": 43,
   "id": "f78185a0",
   "metadata": {},
   "outputs": [
    {
     "data": {
      "text/html": [
       "<div>\n",
       "<style scoped>\n",
       "    .dataframe tbody tr th:only-of-type {\n",
       "        vertical-align: middle;\n",
       "    }\n",
       "\n",
       "    .dataframe tbody tr th {\n",
       "        vertical-align: top;\n",
       "    }\n",
       "\n",
       "    .dataframe thead th {\n",
       "        text-align: right;\n",
       "    }\n",
       "</style>\n",
       "<table border=\"1\" class=\"dataframe\">\n",
       "  <thead>\n",
       "    <tr style=\"text-align: right;\">\n",
       "      <th></th>\n",
       "      <th>Make</th>\n",
       "      <th>fuel-type</th>\n",
       "      <th>width</th>\n",
       "      <th>height</th>\n",
       "      <th>price</th>\n",
       "    </tr>\n",
       "  </thead>\n",
       "  <tbody>\n",
       "    <tr>\n",
       "      <th>0</th>\n",
       "      <td>0</td>\n",
       "      <td>gas</td>\n",
       "      <td>65.600000</td>\n",
       "      <td>54.00</td>\n",
       "      <td>34567</td>\n",
       "    </tr>\n",
       "    <tr>\n",
       "      <th>1</th>\n",
       "      <td>3</td>\n",
       "      <td>gas</td>\n",
       "      <td>67.700000</td>\n",
       "      <td>78.50</td>\n",
       "      <td>78544</td>\n",
       "    </tr>\n",
       "    <tr>\n",
       "      <th>2</th>\n",
       "      <td>3</td>\n",
       "      <td>disel</td>\n",
       "      <td>66.500000</td>\n",
       "      <td>70.25</td>\n",
       "      <td>45678</td>\n",
       "    </tr>\n",
       "    <tr>\n",
       "      <th>3</th>\n",
       "      <td>2</td>\n",
       "      <td>disel</td>\n",
       "      <td>68.000000</td>\n",
       "      <td>65.00</td>\n",
       "      <td>65435</td>\n",
       "    </tr>\n",
       "    <tr>\n",
       "      <th>4</th>\n",
       "      <td>4</td>\n",
       "      <td>gas</td>\n",
       "      <td>70.300000</td>\n",
       "      <td>87.00</td>\n",
       "      <td>67435</td>\n",
       "    </tr>\n",
       "    <tr>\n",
       "      <th>5</th>\n",
       "      <td>0</td>\n",
       "      <td>gas</td>\n",
       "      <td>65.700000</td>\n",
       "      <td>54.00</td>\n",
       "      <td>67543</td>\n",
       "    </tr>\n",
       "    <tr>\n",
       "      <th>6</th>\n",
       "      <td>2</td>\n",
       "      <td>gas</td>\n",
       "      <td>77.900000</td>\n",
       "      <td>65.00</td>\n",
       "      <td>90000</td>\n",
       "    </tr>\n",
       "    <tr>\n",
       "      <th>7</th>\n",
       "      <td>0</td>\n",
       "      <td>disel</td>\n",
       "      <td>67.300000</td>\n",
       "      <td>70.25</td>\n",
       "      <td>43543</td>\n",
       "    </tr>\n",
       "    <tr>\n",
       "      <th>8</th>\n",
       "      <td>1</td>\n",
       "      <td>gas</td>\n",
       "      <td>68.200000</td>\n",
       "      <td>87.00</td>\n",
       "      <td>67890</td>\n",
       "    </tr>\n",
       "    <tr>\n",
       "      <th>9</th>\n",
       "      <td>1</td>\n",
       "      <td>gas</td>\n",
       "      <td>65.400000</td>\n",
       "      <td>67.00</td>\n",
       "      <td>65432</td>\n",
       "    </tr>\n",
       "    <tr>\n",
       "      <th>10</th>\n",
       "      <td>0</td>\n",
       "      <td>gas</td>\n",
       "      <td>65.400000</td>\n",
       "      <td>67.00</td>\n",
       "      <td>30000</td>\n",
       "    </tr>\n",
       "    <tr>\n",
       "      <th>11</th>\n",
       "      <td>4</td>\n",
       "      <td>disel</td>\n",
       "      <td>56.400000</td>\n",
       "      <td>78.00</td>\n",
       "      <td>98000</td>\n",
       "    </tr>\n",
       "    <tr>\n",
       "      <th>13</th>\n",
       "      <td>1</td>\n",
       "      <td>gas</td>\n",
       "      <td>66.215385</td>\n",
       "      <td>56.00</td>\n",
       "      <td>56000</td>\n",
       "    </tr>\n",
       "  </tbody>\n",
       "</table>\n",
       "</div>"
      ],
      "text/plain": [
       "    Make fuel-type      width  height  price\n",
       "0      0       gas  65.600000   54.00  34567\n",
       "1      3       gas  67.700000   78.50  78544\n",
       "2      3     disel  66.500000   70.25  45678\n",
       "3      2     disel  68.000000   65.00  65435\n",
       "4      4       gas  70.300000   87.00  67435\n",
       "5      0       gas  65.700000   54.00  67543\n",
       "6      2       gas  77.900000   65.00  90000\n",
       "7      0     disel  67.300000   70.25  43543\n",
       "8      1       gas  68.200000   87.00  67890\n",
       "9      1       gas  65.400000   67.00  65432\n",
       "10     0       gas  65.400000   67.00  30000\n",
       "11     4     disel  56.400000   78.00  98000\n",
       "13     1       gas  66.215385   56.00  56000"
      ]
     },
     "execution_count": 43,
     "metadata": {},
     "output_type": "execute_result"
    }
   ],
   "source": [
    "df"
   ]
  },
  {
   "cell_type": "code",
   "execution_count": 44,
   "id": "aac7e7c5",
   "metadata": {},
   "outputs": [
    {
     "data": {
      "text/plain": [
       "Make           int32\n",
       "fuel-type     object\n",
       "width        float64\n",
       "height       float64\n",
       "price          int64\n",
       "dtype: object"
      ]
     },
     "execution_count": 44,
     "metadata": {},
     "output_type": "execute_result"
    }
   ],
   "source": [
    "df.dtypes"
   ]
  },
  {
   "cell_type": "code",
   "execution_count": 45,
   "id": "b146e3a4",
   "metadata": {},
   "outputs": [],
   "source": [
    "df[\"fuel-type\"]=le.fit_transform(df[\"fuel-type\"])"
   ]
  },
  {
   "cell_type": "code",
   "execution_count": 46,
   "id": "4a7be717",
   "metadata": {},
   "outputs": [
    {
     "data": {
      "text/html": [
       "<div>\n",
       "<style scoped>\n",
       "    .dataframe tbody tr th:only-of-type {\n",
       "        vertical-align: middle;\n",
       "    }\n",
       "\n",
       "    .dataframe tbody tr th {\n",
       "        vertical-align: top;\n",
       "    }\n",
       "\n",
       "    .dataframe thead th {\n",
       "        text-align: right;\n",
       "    }\n",
       "</style>\n",
       "<table border=\"1\" class=\"dataframe\">\n",
       "  <thead>\n",
       "    <tr style=\"text-align: right;\">\n",
       "      <th></th>\n",
       "      <th>Make</th>\n",
       "      <th>fuel-type</th>\n",
       "      <th>width</th>\n",
       "      <th>height</th>\n",
       "      <th>price</th>\n",
       "    </tr>\n",
       "  </thead>\n",
       "  <tbody>\n",
       "    <tr>\n",
       "      <th>0</th>\n",
       "      <td>0</td>\n",
       "      <td>1</td>\n",
       "      <td>65.600000</td>\n",
       "      <td>54.00</td>\n",
       "      <td>34567</td>\n",
       "    </tr>\n",
       "    <tr>\n",
       "      <th>1</th>\n",
       "      <td>3</td>\n",
       "      <td>1</td>\n",
       "      <td>67.700000</td>\n",
       "      <td>78.50</td>\n",
       "      <td>78544</td>\n",
       "    </tr>\n",
       "    <tr>\n",
       "      <th>2</th>\n",
       "      <td>3</td>\n",
       "      <td>0</td>\n",
       "      <td>66.500000</td>\n",
       "      <td>70.25</td>\n",
       "      <td>45678</td>\n",
       "    </tr>\n",
       "    <tr>\n",
       "      <th>3</th>\n",
       "      <td>2</td>\n",
       "      <td>0</td>\n",
       "      <td>68.000000</td>\n",
       "      <td>65.00</td>\n",
       "      <td>65435</td>\n",
       "    </tr>\n",
       "    <tr>\n",
       "      <th>4</th>\n",
       "      <td>4</td>\n",
       "      <td>1</td>\n",
       "      <td>70.300000</td>\n",
       "      <td>87.00</td>\n",
       "      <td>67435</td>\n",
       "    </tr>\n",
       "    <tr>\n",
       "      <th>5</th>\n",
       "      <td>0</td>\n",
       "      <td>1</td>\n",
       "      <td>65.700000</td>\n",
       "      <td>54.00</td>\n",
       "      <td>67543</td>\n",
       "    </tr>\n",
       "    <tr>\n",
       "      <th>6</th>\n",
       "      <td>2</td>\n",
       "      <td>1</td>\n",
       "      <td>77.900000</td>\n",
       "      <td>65.00</td>\n",
       "      <td>90000</td>\n",
       "    </tr>\n",
       "    <tr>\n",
       "      <th>7</th>\n",
       "      <td>0</td>\n",
       "      <td>0</td>\n",
       "      <td>67.300000</td>\n",
       "      <td>70.25</td>\n",
       "      <td>43543</td>\n",
       "    </tr>\n",
       "    <tr>\n",
       "      <th>8</th>\n",
       "      <td>1</td>\n",
       "      <td>1</td>\n",
       "      <td>68.200000</td>\n",
       "      <td>87.00</td>\n",
       "      <td>67890</td>\n",
       "    </tr>\n",
       "    <tr>\n",
       "      <th>9</th>\n",
       "      <td>1</td>\n",
       "      <td>1</td>\n",
       "      <td>65.400000</td>\n",
       "      <td>67.00</td>\n",
       "      <td>65432</td>\n",
       "    </tr>\n",
       "    <tr>\n",
       "      <th>10</th>\n",
       "      <td>0</td>\n",
       "      <td>1</td>\n",
       "      <td>65.400000</td>\n",
       "      <td>67.00</td>\n",
       "      <td>30000</td>\n",
       "    </tr>\n",
       "    <tr>\n",
       "      <th>11</th>\n",
       "      <td>4</td>\n",
       "      <td>0</td>\n",
       "      <td>56.400000</td>\n",
       "      <td>78.00</td>\n",
       "      <td>98000</td>\n",
       "    </tr>\n",
       "    <tr>\n",
       "      <th>13</th>\n",
       "      <td>1</td>\n",
       "      <td>1</td>\n",
       "      <td>66.215385</td>\n",
       "      <td>56.00</td>\n",
       "      <td>56000</td>\n",
       "    </tr>\n",
       "  </tbody>\n",
       "</table>\n",
       "</div>"
      ],
      "text/plain": [
       "    Make  fuel-type      width  height  price\n",
       "0      0          1  65.600000   54.00  34567\n",
       "1      3          1  67.700000   78.50  78544\n",
       "2      3          0  66.500000   70.25  45678\n",
       "3      2          0  68.000000   65.00  65435\n",
       "4      4          1  70.300000   87.00  67435\n",
       "5      0          1  65.700000   54.00  67543\n",
       "6      2          1  77.900000   65.00  90000\n",
       "7      0          0  67.300000   70.25  43543\n",
       "8      1          1  68.200000   87.00  67890\n",
       "9      1          1  65.400000   67.00  65432\n",
       "10     0          1  65.400000   67.00  30000\n",
       "11     4          0  56.400000   78.00  98000\n",
       "13     1          1  66.215385   56.00  56000"
      ]
     },
     "execution_count": 46,
     "metadata": {},
     "output_type": "execute_result"
    }
   ],
   "source": [
    "df"
   ]
  },
  {
   "cell_type": "code",
   "execution_count": 47,
   "id": "0496b2d3",
   "metadata": {},
   "outputs": [],
   "source": [
    "#Step 4 of EDA :Scaling\n",
    "#all inputs in same unit\n",
    "# There are 2 types of method are used in scalling:-\n",
    "# 1. MinMaxScaler : Normalised scaling\n",
    "# 2. StandardScaler : Standardarised Scaling\n",
    "# mostly use Standard Scaler it can be +ve , -ve and 0\n",
    "# Standard scaler : use formula :Z-score =(X-Mean(X))/Standard Devaition(X)"
   ]
  },
  {
   "cell_type": "code",
   "execution_count": 48,
   "id": "0cb3cb45",
   "metadata": {},
   "outputs": [],
   "source": [
    "x=df.drop(\"price\",axis=1)\n",
    "y=df[\"price\"] # y is output variable (1 dimension)"
   ]
  },
  {
   "cell_type": "code",
   "execution_count": 49,
   "id": "7c0723b2",
   "metadata": {},
   "outputs": [
    {
     "data": {
      "text/html": [
       "<div>\n",
       "<style scoped>\n",
       "    .dataframe tbody tr th:only-of-type {\n",
       "        vertical-align: middle;\n",
       "    }\n",
       "\n",
       "    .dataframe tbody tr th {\n",
       "        vertical-align: top;\n",
       "    }\n",
       "\n",
       "    .dataframe thead th {\n",
       "        text-align: right;\n",
       "    }\n",
       "</style>\n",
       "<table border=\"1\" class=\"dataframe\">\n",
       "  <thead>\n",
       "    <tr style=\"text-align: right;\">\n",
       "      <th></th>\n",
       "      <th>Make</th>\n",
       "      <th>fuel-type</th>\n",
       "      <th>width</th>\n",
       "      <th>height</th>\n",
       "    </tr>\n",
       "  </thead>\n",
       "  <tbody>\n",
       "    <tr>\n",
       "      <th>0</th>\n",
       "      <td>0</td>\n",
       "      <td>1</td>\n",
       "      <td>65.600000</td>\n",
       "      <td>54.00</td>\n",
       "    </tr>\n",
       "    <tr>\n",
       "      <th>1</th>\n",
       "      <td>3</td>\n",
       "      <td>1</td>\n",
       "      <td>67.700000</td>\n",
       "      <td>78.50</td>\n",
       "    </tr>\n",
       "    <tr>\n",
       "      <th>2</th>\n",
       "      <td>3</td>\n",
       "      <td>0</td>\n",
       "      <td>66.500000</td>\n",
       "      <td>70.25</td>\n",
       "    </tr>\n",
       "    <tr>\n",
       "      <th>3</th>\n",
       "      <td>2</td>\n",
       "      <td>0</td>\n",
       "      <td>68.000000</td>\n",
       "      <td>65.00</td>\n",
       "    </tr>\n",
       "    <tr>\n",
       "      <th>4</th>\n",
       "      <td>4</td>\n",
       "      <td>1</td>\n",
       "      <td>70.300000</td>\n",
       "      <td>87.00</td>\n",
       "    </tr>\n",
       "    <tr>\n",
       "      <th>5</th>\n",
       "      <td>0</td>\n",
       "      <td>1</td>\n",
       "      <td>65.700000</td>\n",
       "      <td>54.00</td>\n",
       "    </tr>\n",
       "    <tr>\n",
       "      <th>6</th>\n",
       "      <td>2</td>\n",
       "      <td>1</td>\n",
       "      <td>77.900000</td>\n",
       "      <td>65.00</td>\n",
       "    </tr>\n",
       "    <tr>\n",
       "      <th>7</th>\n",
       "      <td>0</td>\n",
       "      <td>0</td>\n",
       "      <td>67.300000</td>\n",
       "      <td>70.25</td>\n",
       "    </tr>\n",
       "    <tr>\n",
       "      <th>8</th>\n",
       "      <td>1</td>\n",
       "      <td>1</td>\n",
       "      <td>68.200000</td>\n",
       "      <td>87.00</td>\n",
       "    </tr>\n",
       "    <tr>\n",
       "      <th>9</th>\n",
       "      <td>1</td>\n",
       "      <td>1</td>\n",
       "      <td>65.400000</td>\n",
       "      <td>67.00</td>\n",
       "    </tr>\n",
       "    <tr>\n",
       "      <th>10</th>\n",
       "      <td>0</td>\n",
       "      <td>1</td>\n",
       "      <td>65.400000</td>\n",
       "      <td>67.00</td>\n",
       "    </tr>\n",
       "    <tr>\n",
       "      <th>11</th>\n",
       "      <td>4</td>\n",
       "      <td>0</td>\n",
       "      <td>56.400000</td>\n",
       "      <td>78.00</td>\n",
       "    </tr>\n",
       "    <tr>\n",
       "      <th>13</th>\n",
       "      <td>1</td>\n",
       "      <td>1</td>\n",
       "      <td>66.215385</td>\n",
       "      <td>56.00</td>\n",
       "    </tr>\n",
       "  </tbody>\n",
       "</table>\n",
       "</div>"
      ],
      "text/plain": [
       "    Make  fuel-type      width  height\n",
       "0      0          1  65.600000   54.00\n",
       "1      3          1  67.700000   78.50\n",
       "2      3          0  66.500000   70.25\n",
       "3      2          0  68.000000   65.00\n",
       "4      4          1  70.300000   87.00\n",
       "5      0          1  65.700000   54.00\n",
       "6      2          1  77.900000   65.00\n",
       "7      0          0  67.300000   70.25\n",
       "8      1          1  68.200000   87.00\n",
       "9      1          1  65.400000   67.00\n",
       "10     0          1  65.400000   67.00\n",
       "11     4          0  56.400000   78.00\n",
       "13     1          1  66.215385   56.00"
      ]
     },
     "execution_count": 49,
     "metadata": {},
     "output_type": "execute_result"
    }
   ],
   "source": [
    "x"
   ]
  },
  {
   "cell_type": "code",
   "execution_count": 50,
   "id": "dc2c5664",
   "metadata": {},
   "outputs": [
    {
     "data": {
      "text/plain": [
       "1"
      ]
     },
     "execution_count": 50,
     "metadata": {},
     "output_type": "execute_result"
    }
   ],
   "source": [
    "y.ndim"
   ]
  },
  {
   "cell_type": "code",
   "execution_count": 51,
   "id": "334234ec",
   "metadata": {},
   "outputs": [
    {
     "data": {
      "text/plain": [
       "2"
      ]
     },
     "execution_count": 51,
     "metadata": {},
     "output_type": "execute_result"
    }
   ],
   "source": [
    "x.ndim"
   ]
  },
  {
   "cell_type": "code",
   "execution_count": 52,
   "id": "82196856",
   "metadata": {},
   "outputs": [
    {
     "data": {
      "text/html": [
       "<div>\n",
       "<style scoped>\n",
       "    .dataframe tbody tr th:only-of-type {\n",
       "        vertical-align: middle;\n",
       "    }\n",
       "\n",
       "    .dataframe tbody tr th {\n",
       "        vertical-align: top;\n",
       "    }\n",
       "\n",
       "    .dataframe thead th {\n",
       "        text-align: right;\n",
       "    }\n",
       "</style>\n",
       "<table border=\"1\" class=\"dataframe\">\n",
       "  <thead>\n",
       "    <tr style=\"text-align: right;\">\n",
       "      <th></th>\n",
       "      <th>Make</th>\n",
       "      <th>fuel-type</th>\n",
       "      <th>width</th>\n",
       "      <th>height</th>\n",
       "    </tr>\n",
       "  </thead>\n",
       "  <tbody>\n",
       "    <tr>\n",
       "      <th>0</th>\n",
       "      <td>0</td>\n",
       "      <td>1</td>\n",
       "      <td>65.600000</td>\n",
       "      <td>54.00</td>\n",
       "    </tr>\n",
       "    <tr>\n",
       "      <th>1</th>\n",
       "      <td>3</td>\n",
       "      <td>1</td>\n",
       "      <td>67.700000</td>\n",
       "      <td>78.50</td>\n",
       "    </tr>\n",
       "    <tr>\n",
       "      <th>2</th>\n",
       "      <td>3</td>\n",
       "      <td>0</td>\n",
       "      <td>66.500000</td>\n",
       "      <td>70.25</td>\n",
       "    </tr>\n",
       "    <tr>\n",
       "      <th>3</th>\n",
       "      <td>2</td>\n",
       "      <td>0</td>\n",
       "      <td>68.000000</td>\n",
       "      <td>65.00</td>\n",
       "    </tr>\n",
       "    <tr>\n",
       "      <th>4</th>\n",
       "      <td>4</td>\n",
       "      <td>1</td>\n",
       "      <td>70.300000</td>\n",
       "      <td>87.00</td>\n",
       "    </tr>\n",
       "    <tr>\n",
       "      <th>5</th>\n",
       "      <td>0</td>\n",
       "      <td>1</td>\n",
       "      <td>65.700000</td>\n",
       "      <td>54.00</td>\n",
       "    </tr>\n",
       "    <tr>\n",
       "      <th>6</th>\n",
       "      <td>2</td>\n",
       "      <td>1</td>\n",
       "      <td>77.900000</td>\n",
       "      <td>65.00</td>\n",
       "    </tr>\n",
       "    <tr>\n",
       "      <th>7</th>\n",
       "      <td>0</td>\n",
       "      <td>0</td>\n",
       "      <td>67.300000</td>\n",
       "      <td>70.25</td>\n",
       "    </tr>\n",
       "    <tr>\n",
       "      <th>8</th>\n",
       "      <td>1</td>\n",
       "      <td>1</td>\n",
       "      <td>68.200000</td>\n",
       "      <td>87.00</td>\n",
       "    </tr>\n",
       "    <tr>\n",
       "      <th>9</th>\n",
       "      <td>1</td>\n",
       "      <td>1</td>\n",
       "      <td>65.400000</td>\n",
       "      <td>67.00</td>\n",
       "    </tr>\n",
       "    <tr>\n",
       "      <th>10</th>\n",
       "      <td>0</td>\n",
       "      <td>1</td>\n",
       "      <td>65.400000</td>\n",
       "      <td>67.00</td>\n",
       "    </tr>\n",
       "    <tr>\n",
       "      <th>11</th>\n",
       "      <td>4</td>\n",
       "      <td>0</td>\n",
       "      <td>56.400000</td>\n",
       "      <td>78.00</td>\n",
       "    </tr>\n",
       "    <tr>\n",
       "      <th>13</th>\n",
       "      <td>1</td>\n",
       "      <td>1</td>\n",
       "      <td>66.215385</td>\n",
       "      <td>56.00</td>\n",
       "    </tr>\n",
       "  </tbody>\n",
       "</table>\n",
       "</div>"
      ],
      "text/plain": [
       "    Make  fuel-type      width  height\n",
       "0      0          1  65.600000   54.00\n",
       "1      3          1  67.700000   78.50\n",
       "2      3          0  66.500000   70.25\n",
       "3      2          0  68.000000   65.00\n",
       "4      4          1  70.300000   87.00\n",
       "5      0          1  65.700000   54.00\n",
       "6      2          1  77.900000   65.00\n",
       "7      0          0  67.300000   70.25\n",
       "8      1          1  68.200000   87.00\n",
       "9      1          1  65.400000   67.00\n",
       "10     0          1  65.400000   67.00\n",
       "11     4          0  56.400000   78.00\n",
       "13     1          1  66.215385   56.00"
      ]
     },
     "execution_count": 52,
     "metadata": {},
     "output_type": "execute_result"
    }
   ],
   "source": [
    "x"
   ]
  },
  {
   "cell_type": "code",
   "execution_count": 53,
   "id": "601d86f2",
   "metadata": {},
   "outputs": [],
   "source": [
    "# Apply StandardScaler on input variable x\n",
    "from sklearn.preprocessing import StandardScaler"
   ]
  },
  {
   "cell_type": "code",
   "execution_count": 54,
   "id": "fba4379c",
   "metadata": {},
   "outputs": [],
   "source": [
    "ss=StandardScaler()"
   ]
  },
  {
   "cell_type": "code",
   "execution_count": 55,
   "id": "8f838c5b",
   "metadata": {},
   "outputs": [],
   "source": [
    "X=ss.fit_transform(x)  #Scaling apply on input x and return answer in x in numpy"
   ]
  },
  {
   "cell_type": "code",
   "execution_count": 56,
   "id": "876068ef",
   "metadata": {},
   "outputs": [
    {
     "data": {
      "text/plain": [
       "array([[-1.11930376,  0.66666667, -0.3096032 , -1.41973455],\n",
       "       [ 0.95940322,  0.66666667,  0.16482761,  0.87562309],\n",
       "       [ 0.95940322, -1.5       , -0.10627571,  0.10269653],\n",
       "       [ 0.2665009 , -1.5       ,  0.23260344, -0.38916582],\n",
       "       [ 1.65230555,  0.66666667,  0.75221813,  1.67197166],\n",
       "       [-1.11930376,  0.66666667, -0.28701125, -1.41973455],\n",
       "       [ 0.2665009 ,  0.66666667,  2.46920581, -0.38916582],\n",
       "       [-1.11930376, -1.5       ,  0.07445984,  0.10269653],\n",
       "       [-0.42640143,  0.66666667,  0.27778732,  1.67197166],\n",
       "       [-0.42640143,  0.66666667, -0.35478708, -0.20178968],\n",
       "       [-1.11930376,  0.66666667, -0.35478708, -0.20178968],\n",
       "       [ 1.65230555, -1.5       , -2.38806197,  0.82877905],\n",
       "       [-0.42640143,  0.66666667, -0.17057585, -1.23235842]])"
      ]
     },
     "execution_count": 56,
     "metadata": {},
     "output_type": "execute_result"
    }
   ],
   "source": [
    "X"
   ]
  },
  {
   "cell_type": "code",
   "execution_count": null,
   "id": "be0703a2",
   "metadata": {},
   "outputs": [],
   "source": []
  }
 ],
 "metadata": {
  "kernelspec": {
   "display_name": "Python 3 (ipykernel)",
   "language": "python",
   "name": "python3"
  },
  "language_info": {
   "codemirror_mode": {
    "name": "ipython",
    "version": 3
   },
   "file_extension": ".py",
   "mimetype": "text/x-python",
   "name": "python",
   "nbconvert_exporter": "python",
   "pygments_lexer": "ipython3",
   "version": "3.11.5"
  }
 },
 "nbformat": 4,
 "nbformat_minor": 5
}
